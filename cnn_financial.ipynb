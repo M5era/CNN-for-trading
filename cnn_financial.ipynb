{
 "cells": [
  {
   "cell_type": "code",
   "execution_count": 1,
   "metadata": {},
   "outputs": [
    {
     "name": "stdout",
     "output_type": "stream",
     "text": [
      "running main.py\n",
      "path to XLE data: historical_data/XLE/XLE.csv\n",
      "Historical data XLE is already available on disk. Therefore not downloading.\n",
      "Calculating RSI\n"
     ]
    },
    {
     "data": {
      "application/vnd.jupyter.widget-view+json": {
       "model_id": "a36d08f1336b4dc0973c410f1d867ef0",
       "version_major": 2,
       "version_minor": 0
      },
      "text/plain": [
       "  0%|          | 0/21 [00:00<?, ?it/s]"
      ]
     },
     "metadata": {},
     "output_type": "display_data"
    },
    {
     "name": "stderr",
     "output_type": "stream",
     "text": [
      "/Users/marcserafin/OneDrive/Business-Analytics_WS2021_OneDrive/Master Thesis/cnnForTrading/cnn-for-trading/technical_indicators.py:121: SettingWithCopyWarning: \n",
      "A value is trying to be set on a copy of a slice from a DataFrame\n",
      "\n",
      "See the caveats in the documentation: https://pandas.pydata.org/pandas-docs/stable/user_guide/indexing.html#returning-a-view-versus-a-copy\n",
      "  df['rsi_' + str(period)][1:] = res\n"
     ]
    },
    {
     "name": "stdout",
     "output_type": "stream",
     "text": [
      "Calculation of RSI Done 4.0 mins, 0.0 secs\n",
      "Calculating WilliamR\n"
     ]
    },
    {
     "data": {
      "application/vnd.jupyter.widget-view+json": {
       "model_id": "0281c47d31a04a8bb8f5d32c3b96fe13",
       "version_major": 2,
       "version_minor": 0
      },
      "text/plain": [
       "  0%|          | 0/21 [00:00<?, ?it/s]"
      ]
     },
     "metadata": {},
     "output_type": "display_data"
    },
    {
     "name": "stdout",
     "output_type": "stream",
     "text": [
      "Calculation of WilliamR Done 0.0 mins, 0.0 secs\n",
      "Calculating MFI\n"
     ]
    },
    {
     "data": {
      "application/vnd.jupyter.widget-view+json": {
       "model_id": "2da1b6f9ae524c2e92866969d4b29a0c",
       "version_major": 2,
       "version_minor": 0
      },
      "text/plain": [
       "  0%|          | 0/21 [00:00<?, ?it/s]"
      ]
     },
     "metadata": {},
     "output_type": "display_data"
    },
    {
     "name": "stdout",
     "output_type": "stream",
     "text": [
      "Calculation of MFI done 0.0 mins, 5.0 secs\n",
      "Calculating ROC\n",
      "Calculation of ROC done 0.0 mins, 15.0 secs\n",
      "Calculating CMF\n"
     ]
    },
    {
     "data": {
      "application/vnd.jupyter.widget-view+json": {
       "model_id": "6dbd92c1b25849e7be23ae412b8c61d0",
       "version_major": 2,
       "version_minor": 0
      },
      "text/plain": [
       "  0%|          | 0/21 [00:00<?, ?it/s]"
      ]
     },
     "metadata": {},
     "output_type": "display_data"
    },
    {
     "name": "stdout",
     "output_type": "stream",
     "text": [
      "Calculation of CMF done 0.0 mins, 0.0 secs\n",
      "Calculating CMO\n"
     ]
    },
    {
     "name": "stderr",
     "output_type": "stream",
     "text": [
      "/Users/marcserafin/OneDrive/Business-Analytics_WS2021_OneDrive/Master Thesis/cnnForTrading/cnn-for-trading/technical_indicators.py:493: PerformanceWarning: DataFrame is highly fragmented.  This is usually the result of calling `frame.insert` many times, which has poor performance.  Consider joining all columns at once using pd.concat(axis=1) instead.  To get a de-fragmented frame, use `newframe = frame.copy()`\n",
      "  df['cmf_' + str(i)] = chaikin_money_flow(df['high'], df['low'], df['close'], df['volume'], window=i, fillna=True)\n"
     ]
    },
    {
     "data": {
      "application/vnd.jupyter.widget-view+json": {
       "model_id": "907e750c71d640f6b127e3332dee4cc6",
       "version_major": 2,
       "version_minor": 0
      },
      "text/plain": [
       "  0%|          | 0/21 [00:00<?, ?it/s]"
      ]
     },
     "metadata": {},
     "output_type": "display_data"
    },
    {
     "name": "stderr",
     "output_type": "stream",
     "text": [
      "/Users/marcserafin/OneDrive/Business-Analytics_WS2021_OneDrive/Master Thesis/cnnForTrading/cnn-for-trading/technical_indicators.py:366: PerformanceWarning: DataFrame is highly fragmented.  This is usually the result of calling `frame.insert` many times, which has poor performance.  Consider joining all columns at once using pd.concat(axis=1) instead.  To get a de-fragmented frame, use `newframe = frame.copy()`\n",
      "  df['cmo_' + str(period)] = np.nan\n",
      "/Users/marcserafin/OneDrive/Business-Analytics_WS2021_OneDrive/Master Thesis/cnnForTrading/cnn-for-trading/technical_indicators.py:368: SettingWithCopyWarning: \n",
      "A value is trying to be set on a copy of a slice from a DataFrame\n",
      "\n",
      "See the caveats in the documentation: https://pandas.pydata.org/pandas-docs/stable/user_guide/indexing.html#returning-a-view-versus-a-copy\n",
      "  df['cmo_' + str(period)][1:] = res\n"
     ]
    },
    {
     "name": "stdout",
     "output_type": "stream",
     "text": [
      "Calculation of CMO Done 2.0 mins, 17.0 secs\n",
      "Calculating SMA\n"
     ]
    },
    {
     "data": {
      "application/vnd.jupyter.widget-view+json": {
       "model_id": "59a3f7d2a7d440c6ac3ef748d2d018d3",
       "version_major": 2,
       "version_minor": 0
      },
      "text/plain": [
       "  0%|          | 0/21 [00:00<?, ?it/s]"
      ]
     },
     "metadata": {},
     "output_type": "display_data"
    },
    {
     "name": "stdout",
     "output_type": "stream",
     "text": [
      "Calculation of SMA Done 0.0 mins, 0.0 secs\n",
      "Calculating SMA\n"
     ]
    },
    {
     "name": "stderr",
     "output_type": "stream",
     "text": [
      "/Library/Frameworks/Python.framework/Versions/3.8/lib/python3.8/site-packages/stockstats.py:782: PerformanceWarning: DataFrame is highly fragmented.  This is usually the result of calling `frame.insert` many times, which has poor performance.  Consider joining all columns at once using pd.concat(axis=1) instead.  To get a de-fragmented frame, use `newframe = frame.copy()`\n",
      "  df[column_name] = df[column].rolling(min_periods=1, window=window,\n",
      "/Users/marcserafin/OneDrive/Business-Analytics_WS2021_OneDrive/Master Thesis/cnnForTrading/cnn-for-trading/technical_indicators.py:167: PerformanceWarning: DataFrame is highly fragmented.  This is usually the result of calling `frame.insert` many times, which has poor performance.  Consider joining all columns at once using pd.concat(axis=1) instead.  To get a de-fragmented frame, use `newframe = frame.copy()`\n",
      "  df[col_name + '_sma_' + str(i)] = df_ss[col_name + '_' + str(i) + '_sma']\n"
     ]
    },
    {
     "data": {
      "application/vnd.jupyter.widget-view+json": {
       "model_id": "4cde380d79ed40259bf48b6ad7c75fdc",
       "version_major": 2,
       "version_minor": 0
      },
      "text/plain": [
       "  0%|          | 0/21 [00:00<?, ?it/s]"
      ]
     },
     "metadata": {},
     "output_type": "display_data"
    },
    {
     "name": "stdout",
     "output_type": "stream",
     "text": [
      "Calculation of SMA Done 0.0 mins, 0.0 secs\n",
      "Calculating EMA\n"
     ]
    },
    {
     "data": {
      "application/vnd.jupyter.widget-view+json": {
       "model_id": "0db0bef4784b4c6eb5f4723666e56829",
       "version_major": 2,
       "version_minor": 0
      },
      "text/plain": [
       "  0%|          | 0/21 [00:00<?, ?it/s]"
      ]
     },
     "metadata": {},
     "output_type": "display_data"
    },
    {
     "name": "stdout",
     "output_type": "stream",
     "text": [
      "Calculation of EMA Done 0.0 mins, 0.0 secs\n",
      "Calculating WMA\n"
     ]
    },
    {
     "name": "stderr",
     "output_type": "stream",
     "text": [
      "/Library/Frameworks/Python.framework/Versions/3.8/lib/python3.8/site-packages/stockstats.py:797: PerformanceWarning: DataFrame is highly fragmented.  This is usually the result of calling `frame.insert` many times, which has poor performance.  Consider joining all columns at once using pd.concat(axis=1) instead.  To get a de-fragmented frame, use `newframe = frame.copy()`\n",
      "  df[column_name] = df[column].ewm(\n",
      "/Users/marcserafin/OneDrive/Business-Analytics_WS2021_OneDrive/Master Thesis/cnnForTrading/cnn-for-trading/technical_indicators.py:182: PerformanceWarning: DataFrame is highly fragmented.  This is usually the result of calling `frame.insert` many times, which has poor performance.  Consider joining all columns at once using pd.concat(axis=1) instead.  To get a de-fragmented frame, use `newframe = frame.copy()`\n",
      "  df['ema_' + str(i)] = df_ss[col_name + '_' + str(i) + '_ema']\n"
     ]
    },
    {
     "data": {
      "application/vnd.jupyter.widget-view+json": {
       "model_id": "dab51dd61c9b4582b59a29e2dcec0536",
       "version_major": 2,
       "version_minor": 0
      },
      "text/plain": [
       "  0%|          | 0/21 [00:00<?, ?it/s]"
      ]
     },
     "metadata": {},
     "output_type": "display_data"
    },
    {
     "name": "stderr",
     "output_type": "stream",
     "text": [
      "/Users/marcserafin/OneDrive/Business-Analytics_WS2021_OneDrive/Master Thesis/cnnForTrading/cnn-for-trading/technical_indicators.py:207: PerformanceWarning: DataFrame is highly fragmented.  This is usually the result of calling `frame.insert` many times, which has poor performance.  Consider joining all columns at once using pd.concat(axis=1) instead.  To get a de-fragmented frame, use `newframe = frame.copy()`\n",
      "  df['wma_' + str(i)] = res\n"
     ]
    },
    {
     "name": "stdout",
     "output_type": "stream",
     "text": [
      "Calculation of WMA Done 0.0 mins, 42.0 secs\n",
      "Calculating HMA\n",
      "WMA calculated already. Proceed with HMA\n"
     ]
    },
    {
     "name": "stderr",
     "output_type": "stream",
     "text": [
      "/Users/marcserafin/OneDrive/Business-Analytics_WS2021_OneDrive/Master Thesis/cnnForTrading/cnn-for-trading/technical_indicators.py:215: PerformanceWarning: DataFrame is highly fragmented.  This is usually the result of calling `frame.insert` many times, which has poor performance.  Consider joining all columns at once using pd.concat(axis=1) instead.  To get a de-fragmented frame, use `newframe = frame.copy()`\n",
      "  df['hma_wma_' + str(i) + '_' + str(temp_col_count_dict['hma_wma_' + str(i)])] = 2 * res\n"
     ]
    },
    {
     "data": {
      "application/vnd.jupyter.widget-view+json": {
       "model_id": "4da0a94799c844f8a893b080b235a502",
       "version_major": 2,
       "version_minor": 0
      },
      "text/plain": [
       "0it [00:00, ?it/s]"
      ]
     },
     "metadata": {},
     "output_type": "display_data"
    },
    {
     "name": "stdout",
     "output_type": "stream",
     "text": [
      "Calculation of HMA Done 1.0 mins, 22.0 secs\n",
      "Calculating TRIX\n"
     ]
    },
    {
     "data": {
      "application/vnd.jupyter.widget-view+json": {
       "model_id": "3ffe6f77c0d546358c87b8596637457f",
       "version_major": 2,
       "version_minor": 0
      },
      "text/plain": [
       "  0%|          | 0/21 [00:00<?, ?it/s]"
      ]
     },
     "metadata": {},
     "output_type": "display_data"
    },
    {
     "name": "stdout",
     "output_type": "stream",
     "text": [
      "Calculation of TRIX Done 0.0 mins, 0.0 secs\n",
      "Calculating CCI\n"
     ]
    },
    {
     "data": {
      "application/vnd.jupyter.widget-view+json": {
       "model_id": "e58156ef84ff4b3a8c59c4e57d7032e8",
       "version_major": 2,
       "version_minor": 0
      },
      "text/plain": [
       "  0%|          | 0/21 [00:00<?, ?it/s]"
      ]
     },
     "metadata": {},
     "output_type": "display_data"
    },
    {
     "name": "stdout",
     "output_type": "stream",
     "text": [
      "Calculation of CCI Done 0.0 mins, 4.0 secs\n",
      "Calculating DPO\n"
     ]
    },
    {
     "data": {
      "application/vnd.jupyter.widget-view+json": {
       "model_id": "985c29effb25446ba78e6d633d24ff99",
       "version_major": 2,
       "version_minor": 0
      },
      "text/plain": [
       "  0%|          | 0/21 [00:00<?, ?it/s]"
      ]
     },
     "metadata": {},
     "output_type": "display_data"
    },
    {
     "name": "stdout",
     "output_type": "stream",
     "text": [
      "Calculation of DPO done 0.0 mins, 0.0 secs\n",
      "Calculating KST\n"
     ]
    },
    {
     "data": {
      "application/vnd.jupyter.widget-view+json": {
       "model_id": "628b0b2d91604a0db023b715df402c96",
       "version_major": 2,
       "version_minor": 0
      },
      "text/plain": [
       "  0%|          | 0/21 [00:00<?, ?it/s]"
      ]
     },
     "metadata": {},
     "output_type": "display_data"
    },
    {
     "name": "stdout",
     "output_type": "stream",
     "text": [
      "Calculation of KST done 0.0 mins, 0.0 secs\n",
      "Calculating DMI\n"
     ]
    },
    {
     "data": {
      "application/vnd.jupyter.widget-view+json": {
       "model_id": "5f9c07a2a196493a9fa9885f45ca916b",
       "version_major": 2,
       "version_minor": 0
      },
      "text/plain": [
       "  0%|          | 0/21 [00:00<?, ?it/s]"
      ]
     },
     "metadata": {},
     "output_type": "display_data"
    },
    {
     "name": "stdout",
     "output_type": "stream",
     "text": [
      "Calculation of DMI done 0.0 mins, 0.0 secs\n",
      "Calculating Bollinger Band MAV\n"
     ]
    },
    {
     "name": "stderr",
     "output_type": "stream",
     "text": [
      "/Users/marcserafin/OneDrive/Business-Analytics_WS2021_OneDrive/Master Thesis/cnnForTrading/cnn-for-trading/technical_indicators.py:295: PerformanceWarning: DataFrame is highly fragmented.  This is usually the result of calling `frame.insert` many times, which has poor performance.  Consider joining all columns at once using pd.concat(axis=1) instead.  To get a de-fragmented frame, use `newframe = frame.copy()`\n",
      "  df['dmi_' + str(i)] = df_ss['adx_' + str(i) + '_ema']\n"
     ]
    },
    {
     "data": {
      "application/vnd.jupyter.widget-view+json": {
       "model_id": "75df7b01835f4307bd3d18c2705d5814",
       "version_major": 2,
       "version_minor": 0
      },
      "text/plain": [
       "  0%|          | 0/21 [00:00<?, ?it/s]"
      ]
     },
     "metadata": {},
     "output_type": "display_data"
    },
    {
     "name": "stdout",
     "output_type": "stream",
     "text": [
      "Calculation of Bollinger Band MAV done 0.0 mins, 0.0 secs\n",
      "Calculating Force Index\n"
     ]
    },
    {
     "data": {
      "application/vnd.jupyter.widget-view+json": {
       "model_id": "f0d1d622902444f98877dbab8bee310e",
       "version_major": 2,
       "version_minor": 0
      },
      "text/plain": [
       "  0%|          | 0/21 [00:00<?, ?it/s]"
      ]
     },
     "metadata": {},
     "output_type": "display_data"
    },
    {
     "name": "stdout",
     "output_type": "stream",
     "text": [
      "Calculation of Force Index done 0.0 mins, 0.0 secs\n",
      "Calculating KDJK, RSV\n"
     ]
    },
    {
     "data": {
      "application/vnd.jupyter.widget-view+json": {
       "model_id": "0d94f7a58b2043cf80be5c7805686598",
       "version_major": 2,
       "version_minor": 0
      },
      "text/plain": [
       "  0%|          | 0/21 [00:00<?, ?it/s]"
      ]
     },
     "metadata": {},
     "output_type": "display_data"
    },
    {
     "name": "stdout",
     "output_type": "stream",
     "text": [
      "Calculation of EMA Done 0.0 mins, 0.0 secs\n",
      "Calculating EOM\n"
     ]
    },
    {
     "data": {
      "application/vnd.jupyter.widget-view+json": {
       "model_id": "f9b8b4d1ee3240bfb63fe2636da20ca0",
       "version_major": 2,
       "version_minor": 0
      },
      "text/plain": [
       "  0%|          | 0/21 [00:00<?, ?it/s]"
      ]
     },
     "metadata": {},
     "output_type": "display_data"
    },
    {
     "name": "stdout",
     "output_type": "stream",
     "text": [
      "Calculation of EOM done 0.0 mins, 0.0 secs\n",
      "Saving dataframe...\n"
     ]
    },
    {
     "name": "stderr",
     "output_type": "stream",
     "text": [
      "/Users/marcserafin/OneDrive/Business-Analytics_WS2021_OneDrive/Master Thesis/cnnForTrading/cnn-for-trading/technical_indicators.py:513: PerformanceWarning: DataFrame is highly fragmented.  This is usually the result of calling `frame.insert` many times, which has poor performance.  Consider joining all columns at once using pd.concat(axis=1) instead.  To get a de-fragmented frame, use `newframe = frame.copy()`\n",
      "  df['eom_' + str(i)] = ease_of_movement(df['high'], df['low'], df['volume'], window=i, fillna=True)\n"
     ]
    },
    {
     "name": "stdout",
     "output_type": "stream",
     "text": [
      "Dropped 26 nan rows before label calculation\n",
      "Dropped 0 nan rows after label calculation\n",
      "Number of Technical indicator columns for train/test are 463\n",
      "path to CL=F data: historical_data/CL=F/CL=F.csv\n",
      "Auxiliary data CL=F is already available on disk. Therefore not downloading.\n",
      "path to EURUSD=X data: historical_data/EURUSD=X/EURUSD=X.csv\n",
      "Auxiliary data EURUSD=X is already available on disk. Therefore not downloading.\n",
      "Merging dataframes from XLE and auxiliary CL=F\n",
      "Technical indicators for auxiliary data CL=F already calculated. Will load from disk.\n",
      "Merging dataframes from XLE and auxiliary EURUSD=X\n",
      "Technical indicators for auxiliary data EURUSD=X already calculated. Will load from disk.\n",
      "df_XLE_aux written to disk.\n",
      "common selected featues:291, ['kdjk_26', 'cci_23', 'kdjk_19', 'roc_16', 'kdjk_7', 'wr_21', 'trix_25', 'fi_17', 'dpo_9', 'wma_26', 'trix_10', 'dmi_20', 'fi_15', 'cmo_6', 'rsv_10', 'cmo_17', 'open_sma_13', 'eom_9', 'trix_15', 'rsv_16', 'rsv_26', 'kdjk_12', 'cci_7', 'kdjk_15', 'rsv_24', 'kst_14', 'eom_15', 'dmi_12', 'dpo_17', 'dpo_12', 'kst_11', 'kst_24', 'cmf_19', 'open_23_sma', 'trix_22', 'wr_15', 'eom_8', 'mfi_10', 'open_sma_15', 'dpo_26', 'open_sma_18', 'trix_6', 'kst_6', 'fi_26', 'rsi_9', 'bb_23', 'dmi_18', 'dpo_15', 'open_13_sma', 'open_sma_22', 'cci_18', 'wr_24', 'dmi_24', 'bb_22', 'cmf_20', 'dpo_25', 'bb_17', 'dmi_6', 'dpo_7', 'open_sma_17', 'rsv_8', 'open_sma_23', 'bb_16', 'roc_20', 'rsi_16', 'dmi_17', 'eom_12', 'dmi_26', 'eom_18', 'roc_7', 'dmi_21', 'cci_20', 'wma_24', 'wr_19', 'kst_19', 'bb_21', 'eom_11', 'dpo_16', 'wr_26', 'dmi_15', 'dpo_23', 'trix_18', 'rsi_21', 'cci_8', 'dmi_10', 'fi_20', 'cmo_12', 'wma_19', 'rsv_7', 'bb_20', 'trix_16', 'open_19_sma', 'kst_10', 'cci_24', 'eom_24', 'rsv_12', 'dpo_11', 'eom_6', 'rsv_14', 'wr_12', 'kdjk_8', 'dpo_21', 'cmo_11', 'kst_16', 'open_12_sma', 'dmi_14', 'cmo_10', 'trix_9', 'dmi_7', 'fi_10', 'fi_6', 'trix_26', 'open_16_sma', 'trix_24', 'cci_21', 'rsv_22', 'trix_19', 'kst_8', 'cci_11', 'mfi_11', 'wr_25', 'dmi_8', 'kst_25', 'kst_23', 'roc_26', 'rsv_23', 'eom_22', 'cci_13', 'cmf_10', 'trix_21', 'open_18_sma', 'fi_11', 'dmi_11', 'wma_23', 'kdjk_24', 'kdjk_23', 'cci_15', 'fi_14', 'roc_9', 'dpo_6', 'trix_20', 'wr_11', 'eom_13', 'open_11_sma', 'open_sma_14', 'kdjk_22', 'rsv_6', 'fi_8', 'fi_12', 'open_sma_24', 'fi_22', 'mfi_16', 'open_14_sma', 'mfi_8', 'dpo_13', 'rsv_17', 'rsv_9', 'mfi_9', 'dpo_14', 'dpo_19', 'cci_17', 'cci_26', 'fi_18', 'rsv_18', 'dmi_22', 'fi_25', 'cci_9', 'rsi_14', 'mfi_14', 'cci_16', 'cci_12', 'kdjk_21', 'open_15_sma', 'dmi_13', 'kdjk_6', 'rsv_13', 'roc_19', 'fi_21', 'kst_18', 'cci_6', 'bb_15', 'wma_18', 'trix_23', 'cci_25', 'cci_14', 'wr_8', 'wr_9', 'mfi_6', 'roc_14', 'eom_23', 'cmf_22', 'eom_26', 'kst_7', 'kdjk_9', 'roc_8', 'wma_25', 'bb_13', 'roc_15', 'wr_23', 'open_sma_12', 'wr_18', 'kst_13', 'fi_24', 'wr_22', 'eom_10', 'cmf_12', 'open_17_sma', 'cmo_7', 'cci_10', 'dpo_18', 'kst_9', 'eom_19', 'wr_13', 'kst_17', 'cmf_23', 'kst_12', 'cmo_15', 'dmi_23', 'fi_23', 'cmf_13', 'eom_14', 'dmi_25', 'bb_18', 'open_24_sma', 'rsv_11', 'kdjk_13', 'bb_14', 'eom_16', 'kst_21', 'kdjk_18', 'kdjk_20', 'cmo_8', 'open_sma_19', 'dpo_8', 'kst_26', 'rsi_7', 'rsv_15', 'rsv_19', 'wr_16', 'open_sma_11', 'kst_20', 'roc_11', 'cmf_7', 'eom_7', 'fi_7', 'dmi_16', 'dmi_19', 'wma_22', 'kdjk_11', 'trix_14', 'dmi_9', 'kdjk_17', 'open_22_sma', 'rsi_8', 'open_sma_16', 'fi_9', 'fi_19', 'kst_22', 'kdjk_25', 'wr_17', 'cci_22', 'trix_13', 'kdjk_14', 'wr_14', 'trix_12', 'rsi_6', 'fi_13', 'rsv_25', 'eom_17', 'rsv_21', 'cmf_18', 'bb_19', 'eom_21', 'rsi_10', 'cmf_24', 'eom_20', 'trix_17', 'dpo_22', 'wr_10', 'dpo_24', 'fi_16', 'rsv_20', 'kdjk_16', 'kdjk_10', 'mfi_13', 'wma_20', 'dpo_20', 'kst_15', 'dpo_10', 'cci_19', 'eom_25']\n",
      "[8, 13, 15, 20, 28, 29, 31, 32, 33, 35, 38, 39, 41, 42, 43, 44, 45, 46, 47, 49, 50, 51, 52, 55, 57, 69, 70, 71, 76, 77, 78, 81, 82, 88, 93, 95, 96, 102, 103, 105, 106, 110, 111, 114, 115, 116, 119, 121, 141, 143, 144, 145, 146, 147, 148, 149, 150, 151, 153, 154, 155, 156, 157, 164, 165, 166, 167, 168, 227, 228, 232, 233, 234, 235, 257, 260, 261, 266, 267, 269, 270, 271, 272, 273, 274, 275, 276, 277, 278, 279, 280, 281, 282, 283, 284, 285, 286, 287, 288, 289, 290, 292, 293, 295, 296, 297, 298, 299, 300, 302, 304, 305, 306, 307, 308, 309, 310, 311, 312, 314, 316, 318, 319, 320, 321, 322, 323, 324, 325, 326, 327, 328, 330, 331, 332, 333, 337, 338, 339, 341, 342, 343, 345, 346, 347, 348, 349, 350, 352, 353, 355, 356, 357, 358, 359, 360, 361, 369, 371, 372, 373, 374, 376, 377, 378, 379, 383, 385, 387, 388, 389, 391, 392, 394, 395, 397, 398, 399, 400, 401, 402, 403, 404, 405, 406, 407, 408, 409, 410, 411, 412, 414, 416, 417, 418, 420, 423, 424, 426, 428, 431, 435, 436, 437, 438, 439, 440, 441, 444, 445, 446, 448, 449, 450, 451, 452, 453, 454, 455, 458, 459, 462, 463, 464, 466]\n",
      "historical_data has data for 2004-01-06 00:00:00 to 2021-09-29 00:00:00\n"
     ]
    }
   ],
   "source": [
    "%run ./main.py\n",
    "\n",
    "# uncomment to run main.py to generate dataset"
   ]
  },
  {
   "cell_type": "code",
   "execution_count": 2,
   "metadata": {
    "scrolled": true
   },
   "outputs": [
    {
     "data": {
      "text/html": [
       "<div>\n",
       "<style scoped>\n",
       "    .dataframe tbody tr th:only-of-type {\n",
       "        vertical-align: middle;\n",
       "    }\n",
       "\n",
       "    .dataframe tbody tr th {\n",
       "        vertical-align: top;\n",
       "    }\n",
       "\n",
       "    .dataframe thead th {\n",
       "        text-align: right;\n",
       "    }\n",
       "</style>\n",
       "<table border=\"1\" class=\"dataframe\">\n",
       "  <thead>\n",
       "    <tr style=\"text-align: right;\">\n",
       "      <th></th>\n",
       "      <th>Unnamed: 0</th>\n",
       "      <th>unnamed: 0</th>\n",
       "      <th>timestamp</th>\n",
       "      <th>open</th>\n",
       "      <th>high</th>\n",
       "      <th>low</th>\n",
       "      <th>close</th>\n",
       "      <th>volume</th>\n",
       "      <th>rsi_6</th>\n",
       "      <th>rsi_7</th>\n",
       "      <th>...</th>\n",
       "      <th>eom_18_EURUSD=X</th>\n",
       "      <th>eom_19_EURUSD=X</th>\n",
       "      <th>eom_20_EURUSD=X</th>\n",
       "      <th>eom_21_EURUSD=X</th>\n",
       "      <th>eom_22_EURUSD=X</th>\n",
       "      <th>eom_23_EURUSD=X</th>\n",
       "      <th>eom_24_EURUSD=X</th>\n",
       "      <th>eom_25_EURUSD=X</th>\n",
       "      <th>eom_26_EURUSD=X</th>\n",
       "      <th>labels</th>\n",
       "    </tr>\n",
       "  </thead>\n",
       "  <tbody>\n",
       "    <tr>\n",
       "      <th>0</th>\n",
       "      <td>810</td>\n",
       "      <td>1265</td>\n",
       "      <td>2004-01-06</td>\n",
       "      <td>17.814430</td>\n",
       "      <td>17.833448</td>\n",
       "      <td>17.662278</td>\n",
       "      <td>17.776392</td>\n",
       "      <td>691100</td>\n",
       "      <td>91.334101</td>\n",
       "      <td>81.891705</td>\n",
       "      <td>...</td>\n",
       "      <td>0.0</td>\n",
       "      <td>0.0</td>\n",
       "      <td>0.0</td>\n",
       "      <td>0.0</td>\n",
       "      <td>0.0</td>\n",
       "      <td>0.0</td>\n",
       "      <td>0.0</td>\n",
       "      <td>0.0</td>\n",
       "      <td>0.0</td>\n",
       "      <td>0</td>\n",
       "    </tr>\n",
       "    <tr>\n",
       "      <th>1</th>\n",
       "      <td>811</td>\n",
       "      <td>1266</td>\n",
       "      <td>2004-01-07</td>\n",
       "      <td>17.681286</td>\n",
       "      <td>17.681286</td>\n",
       "      <td>17.484757</td>\n",
       "      <td>17.592531</td>\n",
       "      <td>1676800</td>\n",
       "      <td>72.556789</td>\n",
       "      <td>77.477096</td>\n",
       "      <td>...</td>\n",
       "      <td>0.0</td>\n",
       "      <td>0.0</td>\n",
       "      <td>0.0</td>\n",
       "      <td>0.0</td>\n",
       "      <td>0.0</td>\n",
       "      <td>0.0</td>\n",
       "      <td>0.0</td>\n",
       "      <td>0.0</td>\n",
       "      <td>0.0</td>\n",
       "      <td>0</td>\n",
       "    </tr>\n",
       "    <tr>\n",
       "      <th>2</th>\n",
       "      <td>812</td>\n",
       "      <td>1267</td>\n",
       "      <td>2004-01-08</td>\n",
       "      <td>17.611557</td>\n",
       "      <td>17.674953</td>\n",
       "      <td>17.459406</td>\n",
       "      <td>17.643255</td>\n",
       "      <td>1334900</td>\n",
       "      <td>63.748235</td>\n",
       "      <td>68.320334</td>\n",
       "      <td>...</td>\n",
       "      <td>0.0</td>\n",
       "      <td>0.0</td>\n",
       "      <td>0.0</td>\n",
       "      <td>0.0</td>\n",
       "      <td>0.0</td>\n",
       "      <td>0.0</td>\n",
       "      <td>0.0</td>\n",
       "      <td>0.0</td>\n",
       "      <td>0.0</td>\n",
       "      <td>0</td>\n",
       "    </tr>\n",
       "    <tr>\n",
       "      <th>3</th>\n",
       "      <td>813</td>\n",
       "      <td>1268</td>\n",
       "      <td>2004-01-09</td>\n",
       "      <td>17.592536</td>\n",
       "      <td>17.877821</td>\n",
       "      <td>17.510121</td>\n",
       "      <td>17.732008</td>\n",
       "      <td>2369800</td>\n",
       "      <td>51.689542</td>\n",
       "      <td>63.117682</td>\n",
       "      <td>...</td>\n",
       "      <td>0.0</td>\n",
       "      <td>0.0</td>\n",
       "      <td>0.0</td>\n",
       "      <td>0.0</td>\n",
       "      <td>0.0</td>\n",
       "      <td>0.0</td>\n",
       "      <td>0.0</td>\n",
       "      <td>0.0</td>\n",
       "      <td>0.0</td>\n",
       "      <td>0</td>\n",
       "    </tr>\n",
       "    <tr>\n",
       "      <th>4</th>\n",
       "      <td>814</td>\n",
       "      <td>1269</td>\n",
       "      <td>2004-01-12</td>\n",
       "      <td>17.789070</td>\n",
       "      <td>17.839787</td>\n",
       "      <td>17.719335</td>\n",
       "      <td>17.782730</td>\n",
       "      <td>820000</td>\n",
       "      <td>61.661799</td>\n",
       "      <td>64.749230</td>\n",
       "      <td>...</td>\n",
       "      <td>0.0</td>\n",
       "      <td>0.0</td>\n",
       "      <td>0.0</td>\n",
       "      <td>0.0</td>\n",
       "      <td>0.0</td>\n",
       "      <td>0.0</td>\n",
       "      <td>0.0</td>\n",
       "      <td>0.0</td>\n",
       "      <td>0.0</td>\n",
       "      <td>0</td>\n",
       "    </tr>\n",
       "    <tr>\n",
       "      <th>5</th>\n",
       "      <td>815</td>\n",
       "      <td>1270</td>\n",
       "      <td>2004-01-13</td>\n",
       "      <td>17.846125</td>\n",
       "      <td>17.960239</td>\n",
       "      <td>17.751031</td>\n",
       "      <td>17.789068</td>\n",
       "      <td>1003000</td>\n",
       "      <td>64.006560</td>\n",
       "      <td>62.934676</td>\n",
       "      <td>...</td>\n",
       "      <td>0.0</td>\n",
       "      <td>0.0</td>\n",
       "      <td>0.0</td>\n",
       "      <td>0.0</td>\n",
       "      <td>0.0</td>\n",
       "      <td>0.0</td>\n",
       "      <td>0.0</td>\n",
       "      <td>0.0</td>\n",
       "      <td>0.0</td>\n",
       "      <td>0</td>\n",
       "    </tr>\n",
       "    <tr>\n",
       "      <th>6</th>\n",
       "      <td>816</td>\n",
       "      <td>1271</td>\n",
       "      <td>2004-01-14</td>\n",
       "      <td>17.782722</td>\n",
       "      <td>17.782722</td>\n",
       "      <td>17.630570</td>\n",
       "      <td>17.744684</td>\n",
       "      <td>830200</td>\n",
       "      <td>62.991169</td>\n",
       "      <td>58.111141</td>\n",
       "      <td>...</td>\n",
       "      <td>0.0</td>\n",
       "      <td>0.0</td>\n",
       "      <td>0.0</td>\n",
       "      <td>0.0</td>\n",
       "      <td>0.0</td>\n",
       "      <td>0.0</td>\n",
       "      <td>0.0</td>\n",
       "      <td>0.0</td>\n",
       "      <td>0.0</td>\n",
       "      <td>-1</td>\n",
       "    </tr>\n",
       "    <tr>\n",
       "      <th>7</th>\n",
       "      <td>817</td>\n",
       "      <td>1272</td>\n",
       "      <td>2004-01-15</td>\n",
       "      <td>17.782727</td>\n",
       "      <td>17.827105</td>\n",
       "      <td>17.440386</td>\n",
       "      <td>17.446726</td>\n",
       "      <td>1024100</td>\n",
       "      <td>47.058603</td>\n",
       "      <td>63.999377</td>\n",
       "      <td>...</td>\n",
       "      <td>0.0</td>\n",
       "      <td>0.0</td>\n",
       "      <td>0.0</td>\n",
       "      <td>0.0</td>\n",
       "      <td>0.0</td>\n",
       "      <td>0.0</td>\n",
       "      <td>0.0</td>\n",
       "      <td>0.0</td>\n",
       "      <td>0.0</td>\n",
       "      <td>0</td>\n",
       "    </tr>\n",
       "    <tr>\n",
       "      <th>8</th>\n",
       "      <td>818</td>\n",
       "      <td>1273</td>\n",
       "      <td>2004-01-16</td>\n",
       "      <td>17.560844</td>\n",
       "      <td>17.655938</td>\n",
       "      <td>17.421370</td>\n",
       "      <td>17.611561</td>\n",
       "      <td>355600</td>\n",
       "      <td>37.736816</td>\n",
       "      <td>31.788480</td>\n",
       "      <td>...</td>\n",
       "      <td>0.0</td>\n",
       "      <td>0.0</td>\n",
       "      <td>0.0</td>\n",
       "      <td>0.0</td>\n",
       "      <td>0.0</td>\n",
       "      <td>0.0</td>\n",
       "      <td>0.0</td>\n",
       "      <td>0.0</td>\n",
       "      <td>0.0</td>\n",
       "      <td>1</td>\n",
       "    </tr>\n",
       "    <tr>\n",
       "      <th>9</th>\n",
       "      <td>819</td>\n",
       "      <td>1274</td>\n",
       "      <td>2004-01-20</td>\n",
       "      <td>17.782731</td>\n",
       "      <td>18.074355</td>\n",
       "      <td>17.719335</td>\n",
       "      <td>18.055336</td>\n",
       "      <td>956200</td>\n",
       "      <td>63.076888</td>\n",
       "      <td>57.807452</td>\n",
       "      <td>...</td>\n",
       "      <td>0.0</td>\n",
       "      <td>0.0</td>\n",
       "      <td>0.0</td>\n",
       "      <td>0.0</td>\n",
       "      <td>0.0</td>\n",
       "      <td>0.0</td>\n",
       "      <td>0.0</td>\n",
       "      <td>0.0</td>\n",
       "      <td>0.0</td>\n",
       "      <td>0</td>\n",
       "    </tr>\n",
       "    <tr>\n",
       "      <th>10</th>\n",
       "      <td>820</td>\n",
       "      <td>1275</td>\n",
       "      <td>2004-01-21</td>\n",
       "      <td>18.055340</td>\n",
       "      <td>18.232851</td>\n",
       "      <td>18.010963</td>\n",
       "      <td>18.163115</td>\n",
       "      <td>748000</td>\n",
       "      <td>73.776387</td>\n",
       "      <td>72.281057</td>\n",
       "      <td>...</td>\n",
       "      <td>0.0</td>\n",
       "      <td>0.0</td>\n",
       "      <td>0.0</td>\n",
       "      <td>0.0</td>\n",
       "      <td>0.0</td>\n",
       "      <td>0.0</td>\n",
       "      <td>0.0</td>\n",
       "      <td>0.0</td>\n",
       "      <td>0.0</td>\n",
       "      <td>0</td>\n",
       "    </tr>\n",
       "    <tr>\n",
       "      <th>11</th>\n",
       "      <td>821</td>\n",
       "      <td>1276</td>\n",
       "      <td>2004-01-22</td>\n",
       "      <td>18.258202</td>\n",
       "      <td>18.289901</td>\n",
       "      <td>17.960238</td>\n",
       "      <td>18.074352</td>\n",
       "      <td>425100</td>\n",
       "      <td>73.591356</td>\n",
       "      <td>77.537359</td>\n",
       "      <td>...</td>\n",
       "      <td>0.0</td>\n",
       "      <td>0.0</td>\n",
       "      <td>0.0</td>\n",
       "      <td>0.0</td>\n",
       "      <td>0.0</td>\n",
       "      <td>0.0</td>\n",
       "      <td>0.0</td>\n",
       "      <td>0.0</td>\n",
       "      <td>0.0</td>\n",
       "      <td>0</td>\n",
       "    </tr>\n",
       "    <tr>\n",
       "      <th>12</th>\n",
       "      <td>822</td>\n",
       "      <td>1277</td>\n",
       "      <td>2004-01-23</td>\n",
       "      <td>18.099702</td>\n",
       "      <td>18.321590</td>\n",
       "      <td>18.099702</td>\n",
       "      <td>18.232836</td>\n",
       "      <td>1697300</td>\n",
       "      <td>59.458915</td>\n",
       "      <td>61.604253</td>\n",
       "      <td>...</td>\n",
       "      <td>0.0</td>\n",
       "      <td>0.0</td>\n",
       "      <td>0.0</td>\n",
       "      <td>0.0</td>\n",
       "      <td>0.0</td>\n",
       "      <td>0.0</td>\n",
       "      <td>0.0</td>\n",
       "      <td>0.0</td>\n",
       "      <td>0.0</td>\n",
       "      <td>0</td>\n",
       "    </tr>\n",
       "    <tr>\n",
       "      <th>13</th>\n",
       "      <td>823</td>\n",
       "      <td>1278</td>\n",
       "      <td>2004-01-26</td>\n",
       "      <td>18.131406</td>\n",
       "      <td>18.378652</td>\n",
       "      <td>18.099707</td>\n",
       "      <td>18.340614</td>\n",
       "      <td>683900</td>\n",
       "      <td>65.909133</td>\n",
       "      <td>62.331539</td>\n",
       "      <td>...</td>\n",
       "      <td>0.0</td>\n",
       "      <td>0.0</td>\n",
       "      <td>0.0</td>\n",
       "      <td>0.0</td>\n",
       "      <td>0.0</td>\n",
       "      <td>0.0</td>\n",
       "      <td>0.0</td>\n",
       "      <td>0.0</td>\n",
       "      <td>0.0</td>\n",
       "      <td>0</td>\n",
       "    </tr>\n",
       "    <tr>\n",
       "      <th>14</th>\n",
       "      <td>824</td>\n",
       "      <td>1279</td>\n",
       "      <td>2004-01-27</td>\n",
       "      <td>18.384993</td>\n",
       "      <td>18.454729</td>\n",
       "      <td>18.258199</td>\n",
       "      <td>18.302578</td>\n",
       "      <td>754500</td>\n",
       "      <td>73.094061</td>\n",
       "      <td>72.932315</td>\n",
       "      <td>...</td>\n",
       "      <td>0.0</td>\n",
       "      <td>0.0</td>\n",
       "      <td>0.0</td>\n",
       "      <td>0.0</td>\n",
       "      <td>0.0</td>\n",
       "      <td>0.0</td>\n",
       "      <td>0.0</td>\n",
       "      <td>0.0</td>\n",
       "      <td>0.0</td>\n",
       "      <td>0</td>\n",
       "    </tr>\n",
       "    <tr>\n",
       "      <th>15</th>\n",
       "      <td>825</td>\n",
       "      <td>1280</td>\n",
       "      <td>2004-01-28</td>\n",
       "      <td>18.289901</td>\n",
       "      <td>18.334279</td>\n",
       "      <td>18.023636</td>\n",
       "      <td>18.042654</td>\n",
       "      <td>940500</td>\n",
       "      <td>78.282622</td>\n",
       "      <td>66.666751</td>\n",
       "      <td>...</td>\n",
       "      <td>0.0</td>\n",
       "      <td>0.0</td>\n",
       "      <td>0.0</td>\n",
       "      <td>0.0</td>\n",
       "      <td>0.0</td>\n",
       "      <td>0.0</td>\n",
       "      <td>0.0</td>\n",
       "      <td>0.0</td>\n",
       "      <td>0.0</td>\n",
       "      <td>0</td>\n",
       "    </tr>\n",
       "    <tr>\n",
       "      <th>16</th>\n",
       "      <td>826</td>\n",
       "      <td>1281</td>\n",
       "      <td>2004-01-29</td>\n",
       "      <td>18.163114</td>\n",
       "      <td>18.207491</td>\n",
       "      <td>17.941226</td>\n",
       "      <td>18.029982</td>\n",
       "      <td>3247100</td>\n",
       "      <td>65.217596</td>\n",
       "      <td>70.992508</td>\n",
       "      <td>...</td>\n",
       "      <td>0.0</td>\n",
       "      <td>0.0</td>\n",
       "      <td>0.0</td>\n",
       "      <td>0.0</td>\n",
       "      <td>0.0</td>\n",
       "      <td>0.0</td>\n",
       "      <td>0.0</td>\n",
       "      <td>0.0</td>\n",
       "      <td>0.0</td>\n",
       "      <td>0</td>\n",
       "    </tr>\n",
       "    <tr>\n",
       "      <th>17</th>\n",
       "      <td>827</td>\n",
       "      <td>1282</td>\n",
       "      <td>2004-01-30</td>\n",
       "      <td>18.004611</td>\n",
       "      <td>18.055328</td>\n",
       "      <td>17.820761</td>\n",
       "      <td>17.858799</td>\n",
       "      <td>613500</td>\n",
       "      <td>46.107128</td>\n",
       "      <td>57.370060</td>\n",
       "      <td>...</td>\n",
       "      <td>0.0</td>\n",
       "      <td>0.0</td>\n",
       "      <td>0.0</td>\n",
       "      <td>0.0</td>\n",
       "      <td>0.0</td>\n",
       "      <td>0.0</td>\n",
       "      <td>0.0</td>\n",
       "      <td>0.0</td>\n",
       "      <td>0.0</td>\n",
       "      <td>0</td>\n",
       "    </tr>\n",
       "    <tr>\n",
       "      <th>18</th>\n",
       "      <td>828</td>\n",
       "      <td>1283</td>\n",
       "      <td>2004-02-02</td>\n",
       "      <td>17.903188</td>\n",
       "      <td>18.049000</td>\n",
       "      <td>17.763716</td>\n",
       "      <td>17.960245</td>\n",
       "      <td>938900</td>\n",
       "      <td>30.161415</td>\n",
       "      <td>42.619959</td>\n",
       "      <td>...</td>\n",
       "      <td>0.0</td>\n",
       "      <td>0.0</td>\n",
       "      <td>0.0</td>\n",
       "      <td>0.0</td>\n",
       "      <td>0.0</td>\n",
       "      <td>0.0</td>\n",
       "      <td>0.0</td>\n",
       "      <td>0.0</td>\n",
       "      <td>0.0</td>\n",
       "      <td>0</td>\n",
       "    </tr>\n",
       "    <tr>\n",
       "      <th>19</th>\n",
       "      <td>829</td>\n",
       "      <td>1284</td>\n",
       "      <td>2004-02-03</td>\n",
       "      <td>17.846124</td>\n",
       "      <td>17.966577</td>\n",
       "      <td>17.795406</td>\n",
       "      <td>17.890501</td>\n",
       "      <td>434500</td>\n",
       "      <td>34.143106</td>\n",
       "      <td>28.754202</td>\n",
       "      <td>...</td>\n",
       "      <td>0.0</td>\n",
       "      <td>0.0</td>\n",
       "      <td>0.0</td>\n",
       "      <td>0.0</td>\n",
       "      <td>0.0</td>\n",
       "      <td>0.0</td>\n",
       "      <td>0.0</td>\n",
       "      <td>0.0</td>\n",
       "      <td>0.0</td>\n",
       "      <td>0</td>\n",
       "    </tr>\n",
       "    <tr>\n",
       "      <th>20</th>\n",
       "      <td>830</td>\n",
       "      <td>1285</td>\n",
       "      <td>2004-02-04</td>\n",
       "      <td>17.846121</td>\n",
       "      <td>17.877820</td>\n",
       "      <td>17.662272</td>\n",
       "      <td>17.763706</td>\n",
       "      <td>536000</td>\n",
       "      <td>32.000012</td>\n",
       "      <td>34.615795</td>\n",
       "      <td>...</td>\n",
       "      <td>0.0</td>\n",
       "      <td>0.0</td>\n",
       "      <td>0.0</td>\n",
       "      <td>0.0</td>\n",
       "      <td>0.0</td>\n",
       "      <td>0.0</td>\n",
       "      <td>0.0</td>\n",
       "      <td>0.0</td>\n",
       "      <td>0.0</td>\n",
       "      <td>0</td>\n",
       "    </tr>\n",
       "    <tr>\n",
       "      <th>21</th>\n",
       "      <td>831</td>\n",
       "      <td>1286</td>\n",
       "      <td>2004-02-05</td>\n",
       "      <td>17.744697</td>\n",
       "      <td>17.782734</td>\n",
       "      <td>17.446733</td>\n",
       "      <td>17.605225</td>\n",
       "      <td>1040200</td>\n",
       "      <td>0.000000</td>\n",
       "      <td>27.842618</td>\n",
       "      <td>...</td>\n",
       "      <td>0.0</td>\n",
       "      <td>0.0</td>\n",
       "      <td>0.0</td>\n",
       "      <td>0.0</td>\n",
       "      <td>0.0</td>\n",
       "      <td>0.0</td>\n",
       "      <td>0.0</td>\n",
       "      <td>0.0</td>\n",
       "      <td>0.0</td>\n",
       "      <td>0</td>\n",
       "    </tr>\n",
       "    <tr>\n",
       "      <th>22</th>\n",
       "      <td>832</td>\n",
       "      <td>1287</td>\n",
       "      <td>2004-02-06</td>\n",
       "      <td>17.630579</td>\n",
       "      <td>17.725674</td>\n",
       "      <td>17.529145</td>\n",
       "      <td>17.725674</td>\n",
       "      <td>515900</td>\n",
       "      <td>0.000000</td>\n",
       "      <td>0.000000</td>\n",
       "      <td>...</td>\n",
       "      <td>0.0</td>\n",
       "      <td>0.0</td>\n",
       "      <td>0.0</td>\n",
       "      <td>0.0</td>\n",
       "      <td>0.0</td>\n",
       "      <td>0.0</td>\n",
       "      <td>0.0</td>\n",
       "      <td>0.0</td>\n",
       "      <td>0.0</td>\n",
       "      <td>0</td>\n",
       "    </tr>\n",
       "    <tr>\n",
       "      <th>23</th>\n",
       "      <td>833</td>\n",
       "      <td>1288</td>\n",
       "      <td>2004-02-09</td>\n",
       "      <td>17.751032</td>\n",
       "      <td>18.004618</td>\n",
       "      <td>17.751032</td>\n",
       "      <td>17.941221</td>\n",
       "      <td>739300</td>\n",
       "      <td>21.348135</td>\n",
       "      <td>17.569339</td>\n",
       "      <td>...</td>\n",
       "      <td>0.0</td>\n",
       "      <td>0.0</td>\n",
       "      <td>0.0</td>\n",
       "      <td>0.0</td>\n",
       "      <td>0.0</td>\n",
       "      <td>0.0</td>\n",
       "      <td>0.0</td>\n",
       "      <td>0.0</td>\n",
       "      <td>0.0</td>\n",
       "      <td>0</td>\n",
       "    </tr>\n",
       "    <tr>\n",
       "      <th>24</th>\n",
       "      <td>834</td>\n",
       "      <td>1289</td>\n",
       "      <td>2004-02-10</td>\n",
       "      <td>17.972915</td>\n",
       "      <td>18.220161</td>\n",
       "      <td>17.947556</td>\n",
       "      <td>18.182123</td>\n",
       "      <td>941800</td>\n",
       "      <td>50.833431</td>\n",
       "      <td>41.598479</td>\n",
       "      <td>...</td>\n",
       "      <td>0.0</td>\n",
       "      <td>0.0</td>\n",
       "      <td>0.0</td>\n",
       "      <td>0.0</td>\n",
       "      <td>0.0</td>\n",
       "      <td>0.0</td>\n",
       "      <td>0.0</td>\n",
       "      <td>0.0</td>\n",
       "      <td>0.0</td>\n",
       "      <td>0</td>\n",
       "    </tr>\n",
       "    <tr>\n",
       "      <th>25</th>\n",
       "      <td>835</td>\n",
       "      <td>1290</td>\n",
       "      <td>2004-02-11</td>\n",
       "      <td>18.131411</td>\n",
       "      <td>18.448394</td>\n",
       "      <td>18.087034</td>\n",
       "      <td>18.429375</td>\n",
       "      <td>2014100</td>\n",
       "      <td>66.141440</td>\n",
       "      <td>58.499957</td>\n",
       "      <td>...</td>\n",
       "      <td>0.0</td>\n",
       "      <td>0.0</td>\n",
       "      <td>0.0</td>\n",
       "      <td>0.0</td>\n",
       "      <td>0.0</td>\n",
       "      <td>0.0</td>\n",
       "      <td>0.0</td>\n",
       "      <td>0.0</td>\n",
       "      <td>0.0</td>\n",
       "      <td>0</td>\n",
       "    </tr>\n",
       "    <tr>\n",
       "      <th>26</th>\n",
       "      <td>836</td>\n",
       "      <td>1291</td>\n",
       "      <td>2004-02-12</td>\n",
       "      <td>18.416691</td>\n",
       "      <td>18.556164</td>\n",
       "      <td>18.334276</td>\n",
       "      <td>18.486427</td>\n",
       "      <td>782900</td>\n",
       "      <td>79.640872</td>\n",
       "      <td>75.357759</td>\n",
       "      <td>...</td>\n",
       "      <td>0.0</td>\n",
       "      <td>0.0</td>\n",
       "      <td>0.0</td>\n",
       "      <td>0.0</td>\n",
       "      <td>0.0</td>\n",
       "      <td>0.0</td>\n",
       "      <td>0.0</td>\n",
       "      <td>0.0</td>\n",
       "      <td>0.0</td>\n",
       "      <td>0</td>\n",
       "    </tr>\n",
       "    <tr>\n",
       "      <th>27</th>\n",
       "      <td>837</td>\n",
       "      <td>1292</td>\n",
       "      <td>2004-02-13</td>\n",
       "      <td>18.467415</td>\n",
       "      <td>18.518132</td>\n",
       "      <td>18.315263</td>\n",
       "      <td>18.442057</td>\n",
       "      <td>860300</td>\n",
       "      <td>79.714116</td>\n",
       "      <td>79.681597</td>\n",
       "      <td>...</td>\n",
       "      <td>0.0</td>\n",
       "      <td>0.0</td>\n",
       "      <td>0.0</td>\n",
       "      <td>0.0</td>\n",
       "      <td>0.0</td>\n",
       "      <td>0.0</td>\n",
       "      <td>0.0</td>\n",
       "      <td>0.0</td>\n",
       "      <td>0.0</td>\n",
       "      <td>0</td>\n",
       "    </tr>\n",
       "    <tr>\n",
       "      <th>28</th>\n",
       "      <td>838</td>\n",
       "      <td>1293</td>\n",
       "      <td>2004-02-17</td>\n",
       "      <td>18.575179</td>\n",
       "      <td>18.632236</td>\n",
       "      <td>18.524462</td>\n",
       "      <td>18.600538</td>\n",
       "      <td>532700</td>\n",
       "      <td>89.436209</td>\n",
       "      <td>81.704308</td>\n",
       "      <td>...</td>\n",
       "      <td>0.0</td>\n",
       "      <td>0.0</td>\n",
       "      <td>0.0</td>\n",
       "      <td>0.0</td>\n",
       "      <td>0.0</td>\n",
       "      <td>0.0</td>\n",
       "      <td>0.0</td>\n",
       "      <td>0.0</td>\n",
       "      <td>0.0</td>\n",
       "      <td>0</td>\n",
       "    </tr>\n",
       "    <tr>\n",
       "      <th>29</th>\n",
       "      <td>839</td>\n",
       "      <td>1294</td>\n",
       "      <td>2004-02-18</td>\n",
       "      <td>18.619559</td>\n",
       "      <td>18.632237</td>\n",
       "      <td>18.353294</td>\n",
       "      <td>18.404011</td>\n",
       "      <td>754000</td>\n",
       "      <td>100.000000</td>\n",
       "      <td>89.723718</td>\n",
       "      <td>...</td>\n",
       "      <td>0.0</td>\n",
       "      <td>0.0</td>\n",
       "      <td>0.0</td>\n",
       "      <td>0.0</td>\n",
       "      <td>0.0</td>\n",
       "      <td>0.0</td>\n",
       "      <td>0.0</td>\n",
       "      <td>0.0</td>\n",
       "      <td>0.0</td>\n",
       "      <td>0</td>\n",
       "    </tr>\n",
       "  </tbody>\n",
       "</table>\n",
       "<p>30 rows × 1323 columns</p>\n",
       "</div>"
      ],
      "text/plain": [
       "    Unnamed: 0  unnamed: 0   timestamp       open       high        low  \\\n",
       "0          810        1265  2004-01-06  17.814430  17.833448  17.662278   \n",
       "1          811        1266  2004-01-07  17.681286  17.681286  17.484757   \n",
       "2          812        1267  2004-01-08  17.611557  17.674953  17.459406   \n",
       "3          813        1268  2004-01-09  17.592536  17.877821  17.510121   \n",
       "4          814        1269  2004-01-12  17.789070  17.839787  17.719335   \n",
       "5          815        1270  2004-01-13  17.846125  17.960239  17.751031   \n",
       "6          816        1271  2004-01-14  17.782722  17.782722  17.630570   \n",
       "7          817        1272  2004-01-15  17.782727  17.827105  17.440386   \n",
       "8          818        1273  2004-01-16  17.560844  17.655938  17.421370   \n",
       "9          819        1274  2004-01-20  17.782731  18.074355  17.719335   \n",
       "10         820        1275  2004-01-21  18.055340  18.232851  18.010963   \n",
       "11         821        1276  2004-01-22  18.258202  18.289901  17.960238   \n",
       "12         822        1277  2004-01-23  18.099702  18.321590  18.099702   \n",
       "13         823        1278  2004-01-26  18.131406  18.378652  18.099707   \n",
       "14         824        1279  2004-01-27  18.384993  18.454729  18.258199   \n",
       "15         825        1280  2004-01-28  18.289901  18.334279  18.023636   \n",
       "16         826        1281  2004-01-29  18.163114  18.207491  17.941226   \n",
       "17         827        1282  2004-01-30  18.004611  18.055328  17.820761   \n",
       "18         828        1283  2004-02-02  17.903188  18.049000  17.763716   \n",
       "19         829        1284  2004-02-03  17.846124  17.966577  17.795406   \n",
       "20         830        1285  2004-02-04  17.846121  17.877820  17.662272   \n",
       "21         831        1286  2004-02-05  17.744697  17.782734  17.446733   \n",
       "22         832        1287  2004-02-06  17.630579  17.725674  17.529145   \n",
       "23         833        1288  2004-02-09  17.751032  18.004618  17.751032   \n",
       "24         834        1289  2004-02-10  17.972915  18.220161  17.947556   \n",
       "25         835        1290  2004-02-11  18.131411  18.448394  18.087034   \n",
       "26         836        1291  2004-02-12  18.416691  18.556164  18.334276   \n",
       "27         837        1292  2004-02-13  18.467415  18.518132  18.315263   \n",
       "28         838        1293  2004-02-17  18.575179  18.632236  18.524462   \n",
       "29         839        1294  2004-02-18  18.619559  18.632237  18.353294   \n",
       "\n",
       "        close   volume       rsi_6      rsi_7  ...  eom_18_EURUSD=X  \\\n",
       "0   17.776392   691100   91.334101  81.891705  ...              0.0   \n",
       "1   17.592531  1676800   72.556789  77.477096  ...              0.0   \n",
       "2   17.643255  1334900   63.748235  68.320334  ...              0.0   \n",
       "3   17.732008  2369800   51.689542  63.117682  ...              0.0   \n",
       "4   17.782730   820000   61.661799  64.749230  ...              0.0   \n",
       "5   17.789068  1003000   64.006560  62.934676  ...              0.0   \n",
       "6   17.744684   830200   62.991169  58.111141  ...              0.0   \n",
       "7   17.446726  1024100   47.058603  63.999377  ...              0.0   \n",
       "8   17.611561   355600   37.736816  31.788480  ...              0.0   \n",
       "9   18.055336   956200   63.076888  57.807452  ...              0.0   \n",
       "10  18.163115   748000   73.776387  72.281057  ...              0.0   \n",
       "11  18.074352   425100   73.591356  77.537359  ...              0.0   \n",
       "12  18.232836  1697300   59.458915  61.604253  ...              0.0   \n",
       "13  18.340614   683900   65.909133  62.331539  ...              0.0   \n",
       "14  18.302578   754500   73.094061  72.932315  ...              0.0   \n",
       "15  18.042654   940500   78.282622  66.666751  ...              0.0   \n",
       "16  18.029982  3247100   65.217596  70.992508  ...              0.0   \n",
       "17  17.858799   613500   46.107128  57.370060  ...              0.0   \n",
       "18  17.960245   938900   30.161415  42.619959  ...              0.0   \n",
       "19  17.890501   434500   34.143106  28.754202  ...              0.0   \n",
       "20  17.763706   536000   32.000012  34.615795  ...              0.0   \n",
       "21  17.605225  1040200    0.000000  27.842618  ...              0.0   \n",
       "22  17.725674   515900    0.000000   0.000000  ...              0.0   \n",
       "23  17.941221   739300   21.348135  17.569339  ...              0.0   \n",
       "24  18.182123   941800   50.833431  41.598479  ...              0.0   \n",
       "25  18.429375  2014100   66.141440  58.499957  ...              0.0   \n",
       "26  18.486427   782900   79.640872  75.357759  ...              0.0   \n",
       "27  18.442057   860300   79.714116  79.681597  ...              0.0   \n",
       "28  18.600538   532700   89.436209  81.704308  ...              0.0   \n",
       "29  18.404011   754000  100.000000  89.723718  ...              0.0   \n",
       "\n",
       "    eom_19_EURUSD=X  eom_20_EURUSD=X  eom_21_EURUSD=X  eom_22_EURUSD=X  \\\n",
       "0               0.0              0.0              0.0              0.0   \n",
       "1               0.0              0.0              0.0              0.0   \n",
       "2               0.0              0.0              0.0              0.0   \n",
       "3               0.0              0.0              0.0              0.0   \n",
       "4               0.0              0.0              0.0              0.0   \n",
       "5               0.0              0.0              0.0              0.0   \n",
       "6               0.0              0.0              0.0              0.0   \n",
       "7               0.0              0.0              0.0              0.0   \n",
       "8               0.0              0.0              0.0              0.0   \n",
       "9               0.0              0.0              0.0              0.0   \n",
       "10              0.0              0.0              0.0              0.0   \n",
       "11              0.0              0.0              0.0              0.0   \n",
       "12              0.0              0.0              0.0              0.0   \n",
       "13              0.0              0.0              0.0              0.0   \n",
       "14              0.0              0.0              0.0              0.0   \n",
       "15              0.0              0.0              0.0              0.0   \n",
       "16              0.0              0.0              0.0              0.0   \n",
       "17              0.0              0.0              0.0              0.0   \n",
       "18              0.0              0.0              0.0              0.0   \n",
       "19              0.0              0.0              0.0              0.0   \n",
       "20              0.0              0.0              0.0              0.0   \n",
       "21              0.0              0.0              0.0              0.0   \n",
       "22              0.0              0.0              0.0              0.0   \n",
       "23              0.0              0.0              0.0              0.0   \n",
       "24              0.0              0.0              0.0              0.0   \n",
       "25              0.0              0.0              0.0              0.0   \n",
       "26              0.0              0.0              0.0              0.0   \n",
       "27              0.0              0.0              0.0              0.0   \n",
       "28              0.0              0.0              0.0              0.0   \n",
       "29              0.0              0.0              0.0              0.0   \n",
       "\n",
       "    eom_23_EURUSD=X  eom_24_EURUSD=X  eom_25_EURUSD=X  eom_26_EURUSD=X  labels  \n",
       "0               0.0              0.0              0.0              0.0       0  \n",
       "1               0.0              0.0              0.0              0.0       0  \n",
       "2               0.0              0.0              0.0              0.0       0  \n",
       "3               0.0              0.0              0.0              0.0       0  \n",
       "4               0.0              0.0              0.0              0.0       0  \n",
       "5               0.0              0.0              0.0              0.0       0  \n",
       "6               0.0              0.0              0.0              0.0      -1  \n",
       "7               0.0              0.0              0.0              0.0       0  \n",
       "8               0.0              0.0              0.0              0.0       1  \n",
       "9               0.0              0.0              0.0              0.0       0  \n",
       "10              0.0              0.0              0.0              0.0       0  \n",
       "11              0.0              0.0              0.0              0.0       0  \n",
       "12              0.0              0.0              0.0              0.0       0  \n",
       "13              0.0              0.0              0.0              0.0       0  \n",
       "14              0.0              0.0              0.0              0.0       0  \n",
       "15              0.0              0.0              0.0              0.0       0  \n",
       "16              0.0              0.0              0.0              0.0       0  \n",
       "17              0.0              0.0              0.0              0.0       0  \n",
       "18              0.0              0.0              0.0              0.0       0  \n",
       "19              0.0              0.0              0.0              0.0       0  \n",
       "20              0.0              0.0              0.0              0.0       0  \n",
       "21              0.0              0.0              0.0              0.0       0  \n",
       "22              0.0              0.0              0.0              0.0       0  \n",
       "23              0.0              0.0              0.0              0.0       0  \n",
       "24              0.0              0.0              0.0              0.0       0  \n",
       "25              0.0              0.0              0.0              0.0       0  \n",
       "26              0.0              0.0              0.0              0.0       0  \n",
       "27              0.0              0.0              0.0              0.0       0  \n",
       "28              0.0              0.0              0.0              0.0       0  \n",
       "29              0.0              0.0              0.0              0.0       0  \n",
       "\n",
       "[30 rows x 1323 columns]"
      ]
     },
     "metadata": {},
     "output_type": "display_data"
    }
   ],
   "source": [
    "import pandas as pd\n",
    "import numpy as np\n",
    "from tqdm import tqdm_notebook as tqdm\n",
    "# from IPython.core.interactiveshell import InteractiveShell # TODO do we need this?\n",
    "\n",
    "np.random.seed(42)\n",
    "symbol = 'XLE'\n",
    "\n",
    "# after generating dataset in cell above, import dataset\n",
    "df = pd.read_csv(\"data/df_\"+symbol+\"_aux.csv\")\n",
    "df = df[df['timestamp'] < '2016-01-01']  # For backtesting the last 5 years will be excluded from training.\n",
    "df['labels'] = df['labels'].astype(np.int8)\n",
    "# if 'dividend_amount' in df.columns:\n",
    "#   df.drop(columns=['dividend_amount', 'split_coefficient'], inplace=True)\n",
    "display(df.head(30))"
   ]
  },
  {
   "cell_type": "code",
   "execution_count": 41,
   "metadata": {},
   "outputs": [
    {
     "data": {
      "text/plain": [
       "Index(['kdjk_15', 'rsv_16', 'kdjk_16', 'rsv_17', 'kdjk_17', 'rsv_18',\n",
       "       'kdjk_18', 'rsv_19', 'kdjk_19', 'rsv_20',\n",
       "       ...\n",
       "       'eom_18_EURUSD=X', 'eom_19_EURUSD=X', 'eom_20_EURUSD=X',\n",
       "       'eom_21_EURUSD=X', 'eom_22_EURUSD=X', 'eom_23_EURUSD=X',\n",
       "       'eom_24_EURUSD=X', 'eom_25_EURUSD=X', 'eom_26_EURUSD=X', 'labels'],\n",
       "      dtype='object', length=897)"
      ]
     },
     "execution_count": 41,
     "metadata": {},
     "output_type": "execute_result"
    }
   ],
   "source": [
    "df.columns[426:]"
   ]
  },
  {
   "cell_type": "code",
   "execution_count": 42,
   "metadata": {},
   "outputs": [
    {
     "name": "stdout",
     "output_type": "stream",
     "text": [
      "Total number of features 1319\n",
      "Shape of x, y train/cv/test (1899, 1319) (1899,) (475, 1319) (475,) (594, 1319) (594,)\n"
     ]
    }
   ],
   "source": [
    "from sklearn.preprocessing import MinMaxScaler, OneHotEncoder\n",
    "from sklearn.model_selection import train_test_split\n",
    "#[:, 'open':'eom_26']\n",
    "list_features = list(df.loc[:, 'open':'eom_26_EURUSD=X'].columns)\n",
    "print('Total number of features', len(list_features))\n",
    "x_train, x_test, y_train, y_test = train_test_split(df.loc[:, 'open':'eom_26_EURUSD=X'].values, df['labels'].values, train_size=0.8, \n",
    "                                                    test_size=0.2, random_state=2, shuffle=True, stratify=df['labels'].values)\n",
    "x_train, x_cv, y_train, y_cv = train_test_split(x_train, y_train, train_size=0.8, test_size=0.2, \n",
    "                                                random_state=2, shuffle=True, stratify=y_train)\n",
    "\n",
    "scaler = MinMaxScaler(feature_range=(0, 1)) # or StandardScaler?\n",
    "x_train = scaler.fit_transform(x_train)\n",
    "x_cv = scaler.transform(x_cv)\n",
    "x_test = scaler.transform(x_test)\n",
    "\n",
    "x_main = x_train.copy()\n",
    "print(\"Shape of x, y train/cv/test {} {} {} {} {} {}\".format(x_train.shape, y_train.shape, x_cv.shape, y_cv.shape, x_test.shape, y_test.shape))"
   ]
  },
  {
   "cell_type": "code",
   "execution_count": 44,
   "metadata": {},
   "outputs": [],
   "source": [
    "num_features = 225  # should be a perfect square\n",
    "selection_method = 'all'\n",
    "topk = 320 if selection_method == 'all' else num_features"
   ]
  },
  {
   "cell_type": "code",
   "execution_count": 45,
   "metadata": {
    "scrolled": true
   },
   "outputs": [
    {
     "name": "stderr",
     "output_type": "stream",
     "text": [
      "/Library/Frameworks/Python.framework/Versions/3.8/lib/python3.8/site-packages/sklearn/feature_selection/_univariate_selection.py:112: UserWarning: Features [ 898  941  942  943  944  945  946  947  948  949  950  951  952  953\n",
      "  954  955  956  957  958  959  960  961  983  984  985  986  987  988\n",
      "  989  990  991  992  993  994  995  996  997  998  999 1000 1001 1002\n",
      " 1003 1235 1236 1237 1238 1239 1240 1241 1242 1243 1244 1245 1246 1247\n",
      " 1248 1249 1250 1251 1252 1253 1254 1255 1298 1299 1300 1301 1302 1303\n",
      " 1304 1305 1306 1307 1308 1309 1310 1311 1312 1313 1314 1315 1316 1317\n",
      " 1318] are constant.\n",
      "  warnings.warn(\"Features %s are constant.\" % constant_features_idx, UserWarning)\n",
      "/Library/Frameworks/Python.framework/Versions/3.8/lib/python3.8/site-packages/sklearn/feature_selection/_univariate_selection.py:113: RuntimeWarning: invalid value encountered in true_divide\n",
      "  f = msb / msw\n"
     ]
    },
    {
     "name": "stdout",
     "output_type": "stream",
     "text": [
      "('rsi_6', 'rsi_7', 'rsi_8', 'rsi_9', 'rsi_10', 'rsi_11', 'rsi_12', 'rsi_14', 'wr_6', 'wr_7', 'wr_8', 'wr_9', 'wr_10', 'wr_11', 'wr_12', 'wr_13', 'wr_14', 'wr_15', 'wr_16', 'wr_17', 'wr_18', 'wr_19', 'wr_20', 'wr_21', 'wr_22', 'wr_23', 'wr_24', 'wr_25', 'wr_26', 'mfi_6', 'mfi_7', 'mfi_8', 'mfi_9', 'mfi_10', 'mfi_11', 'mfi_12', 'roc_6', 'roc_7', 'roc_8', 'roc_9', 'roc_10', 'roc_11', 'roc_12', 'roc_13', 'roc_14', 'roc_15', 'roc_16', 'roc_17', 'roc_18', 'roc_19', 'roc_20', 'roc_21', 'roc_22', 'roc_23', 'roc_24', 'roc_25', 'roc_26', 'cmf_6', 'cmf_7', 'cmf_9', 'cmf_10', 'cmo_6', 'cmo_7', 'cmo_8', 'cmo_9', 'cmo_10', 'cmo_11', 'cmo_12', 'cmo_13', 'trix_6', 'trix_7', 'trix_8', 'trix_9', 'trix_17', 'trix_18', 'trix_19', 'trix_20', 'trix_21', 'trix_22', 'trix_23', 'trix_24', 'trix_25', 'trix_26', 'cci_6', 'cci_7', 'cci_8', 'cci_9', 'cci_10', 'cci_11', 'cci_12', 'cci_13', 'cci_14', 'cci_15', 'cci_16', 'cci_17', 'cci_18', 'cci_19', 'cci_20', 'cci_21', 'cci_22', 'cci_23', 'cci_24', 'cci_25', 'cci_26', 'dpo_6', 'dpo_7', 'dpo_8', 'dpo_9', 'dpo_10', 'dpo_11', 'dpo_12', 'dpo_13', 'dpo_14', 'dpo_15', 'dpo_16', 'dpo_17', 'dpo_18', 'dpo_19', 'dpo_22', 'dpo_23', 'dmi_6', 'dmi_7', 'dmi_8', 'dmi_9', 'dmi_10', 'dmi_11', 'dmi_12', 'dmi_13', 'dmi_14', 'dmi_15', 'dmi_16', 'dmi_17', 'dmi_18', 'dmi_19', 'dmi_20', 'dmi_21', 'dmi_22', 'dmi_23', 'dmi_24', 'dmi_25', 'dmi_26', 'fi_6', 'fi_7', 'fi_8', 'fi_9', 'fi_10', 'fi_11', 'fi_12', 'fi_13', 'fi_14', 'fi_15', 'fi_16', 'fi_17', 'fi_18', 'fi_19', 'fi_20', 'fi_21', 'fi_22', 'fi_23', 'fi_24', 'fi_25', 'fi_26', 'rsv_6', 'kdjk_6', 'rsv_7', 'kdjk_7', 'rsv_8', 'kdjk_8', 'rsv_9', 'kdjk_9', 'rsv_10', 'kdjk_10', 'rsv_11', 'kdjk_11', 'rsv_12', 'kdjk_12', 'rsv_13', 'kdjk_13', 'rsv_14', 'kdjk_14', 'rsv_15', 'kdjk_15', 'rsv_16', 'kdjk_16', 'rsv_17', 'kdjk_17', 'rsv_18', 'kdjk_18', 'rsv_19', 'kdjk_19', 'rsv_20', 'kdjk_20', 'rsv_21', 'kdjk_21', 'rsv_22', 'kdjk_22', 'rsv_23', 'kdjk_23', 'rsv_24', 'kdjk_24', 'rsv_25', 'kdjk_25', 'rsv_26', 'kdjk_26', 'eom_6', 'eom_7', 'eom_8', 'eom_9', 'eom_10', 'eom_11', 'eom_12', 'eom_13', 'eom_14', 'eom_15', 'eom_16', 'eom_17', 'eom_18', 'eom_19', 'eom_20', 'eom_21', 'eom_22', 'eom_23', 'eom_24', 'eom_25', 'eom_26', 'rsi_6_CL=F', 'rsi_7_CL=F', 'rsi_8_CL=F', 'rsi_9_CL=F', 'rsi_10_CL=F', 'rsi_11_CL=F', 'rsi_13_CL=F', 'rsi_14_CL=F', 'rsi_15_CL=F', 'rsi_16_CL=F', 'rsi_17_CL=F', 'rsi_18_CL=F', 'rsi_19_CL=F', 'rsi_20_CL=F', 'rsi_21_CL=F', 'mfi_6_CL=F', 'mfi_7_CL=F', 'mfi_8_CL=F', 'mfi_9_CL=F', 'mfi_13_CL=F', 'mfi_14_CL=F', 'mfi_15_CL=F', 'mfi_16_CL=F', 'mfi_17_CL=F', 'mfi_18_CL=F', 'mfi_19_CL=F', 'mfi_20_CL=F', 'mfi_21_CL=F', 'mfi_22_CL=F', 'mfi_23_CL=F', 'cmf_16_CL=F', 'cmf_17_CL=F', 'cmf_18_CL=F', 'cmf_19_CL=F', 'cmf_20_CL=F', 'cmo_6_CL=F', 'cmo_7_CL=F', 'cmo_8_CL=F', 'cmo_9_CL=F', 'cmo_10_CL=F', 'cmo_11_CL=F', 'cmo_14_CL=F', 'cmo_15_CL=F', 'cmo_16_CL=F', 'cmo_17_CL=F', 'cmo_18_CL=F', 'cmo_19_CL=F', 'cmo_20_CL=F', 'cmo_21_CL=F', 'cmo_22_CL=F', 'dpo_6_CL=F', 'dpo_8_CL=F', 'dpo_10_CL=F', 'dpo_11_CL=F', 'dpo_14_CL=F', 'dpo_15_CL=F', 'dpo_16_CL=F', 'dpo_17_CL=F', 'dmi_6_CL=F', 'kdjk_7_CL=F', 'kdjk_8_CL=F', 'kdjk_9_CL=F', 'rsi_16_EURUSD=X', 'rsi_17_EURUSD=X', 'rsi_18_EURUSD=X', 'rsi_20_EURUSD=X', 'rsi_21_EURUSD=X', 'rsi_23_EURUSD=X', 'rsi_24_EURUSD=X', 'wr_11_EURUSD=X', 'roc_7_EURUSD=X', 'roc_8_EURUSD=X', 'roc_17_EURUSD=X', 'roc_18_EURUSD=X', 'roc_19_EURUSD=X', 'roc_21_EURUSD=X', 'roc_24_EURUSD=X', 'roc_25_EURUSD=X', 'roc_26_EURUSD=X', 'cmo_17_EURUSD=X', 'cmo_18_EURUSD=X', 'cmo_19_EURUSD=X', 'cmo_21_EURUSD=X', 'cmo_22_EURUSD=X', 'cmo_24_EURUSD=X', 'cmo_25_EURUSD=X', 'dpo_7_EURUSD=X', 'dpo_14_EURUSD=X', 'dpo_15_EURUSD=X', 'kdjk_7_EURUSD=X', 'kdjk_8_EURUSD=X', 'kdjk_9_EURUSD=X', 'kdjk_10_EURUSD=X', 'rsv_11_EURUSD=X', 'kdjk_11_EURUSD=X')\n",
      "[   5    6    7    8    9   10   11   13   26   27   28   29   30   31\n",
      "   32   33   34   35   36   37   38   39   40   41   42   43   44   45\n",
      "   46   47   48   49   50   51   52   53   68   69   70   71   72   73\n",
      "   74   75   76   77   78   79   80   81   82   83   84   85   86   87\n",
      "   88   89   90   92   93  110  111  112  113  114  115  116  117  257\n",
      "  258  259  260  268  269  270  271  272  273  274  275  276  277  278\n",
      "  279  280  281  282  283  284  285  286  287  288  289  290  291  292\n",
      "  293  294  295  296  297  298  299  300  301  302  303  304  305  306\n",
      "  307  308  309  310  311  312  315  316  341  342  343  344  345  346\n",
      "  347  348  349  350  351  352  353  354  355  356  357  358  359  360\n",
      "  361  383  384  385  386  387  388  389  390  391  392  393  394  395\n",
      "  396  397  398  399  400  401  402  403  404  405  406  407  408  409\n",
      "  410  411  412  413  414  415  416  417  418  419  420  421  422  423\n",
      "  424  425  426  427  428  429  430  431  432  433  434  435  436  437\n",
      "  438  439  440  441  442  443  444  445  446  447  448  449  450  451\n",
      "  452  453  454  455  456  457  458  459  460  461  462  463  464  465\n",
      "  466  473  474  475  476  477  478  480  481  482  483  484  485  486\n",
      "  487  488  515  516  517  518  522  523  524  525  526  527  528  529\n",
      "  530  531  532  567  568  569  570  571  578  579  580  581  582  583\n",
      "  586  587  588  589  590  591  592  593  594  725  727  729  730  733\n",
      "  734  735  736  767  833  835  837  909  910  911  913  914  916  917\n",
      "  925  963  964  973  974  975  977  980  981  982 1015 1016 1017 1019\n",
      " 1020 1022 1023 1152 1159 1160 1259 1261 1263 1265 1266 1267]\n",
      "****************************************\n",
      "320 ('rsi_9', 'rsi_10', 'rsi_14', 'rsi_16', 'rsi_20', 'rsi_21', 'rsi_22', 'rsi_24', 'rsi_25', 'wr_8', 'wr_9', 'wr_10', 'wr_11', 'wr_12', 'wr_13', 'wr_14', 'wr_15', 'wr_16', 'wr_21', 'wr_25', 'mfi_6', 'mfi_8', 'mfi_9', 'mfi_13', 'mfi_15', 'mfi_16', 'mfi_23', 'roc_8', 'roc_9', 'roc_11', 'roc_18', 'roc_21', 'cmf_7', 'cmf_15', 'cmf_16', 'cmf_24', 'cmo_6', 'cmo_8', 'cmo_9', 'cmo_11', 'cmo_15', 'cmo_17', 'cmo_18', 'cmo_19', 'open_18_sma', 'open_sma_18', 'open_19_sma', 'open_sma_19', 'open_23_sma', 'open_sma_23', 'open_13_ema', 'ema_13', 'open_20_ema', 'ema_20', 'open_21_ema', 'ema_21', 'open_22_ema', 'ema_22', 'open_23_ema', 'ema_23', 'open_24_ema', 'ema_24', 'open_25_ema', 'ema_25', 'open_26_ema', 'ema_26', 'wma_26', 'hma_14', 'hma_19', 'trix_9', 'trix_12', 'trix_16', 'trix_19', 'trix_25', 'cci_12', 'cci_13', 'cci_15', 'cci_21', 'dpo_8', 'dpo_19', 'dpo_24', 'kst_23', 'kst_24', 'dmi_6', 'dmi_8', 'dmi_10', 'dmi_12', 'dmi_13', 'dmi_16', 'dmi_17', 'dmi_18', 'dmi_19', 'dmi_25', 'dmi_26', 'bb_20', 'bb_21', 'bb_22', 'bb_23', 'rsv_8', 'kdjk_8', 'rsv_9', 'rsv_10', 'rsv_11', 'rsv_12', 'rsv_13', 'kdjk_13', 'rsv_14', 'rsv_15', 'rsv_16', 'kdjk_16', 'kdjk_17', 'kdjk_18', 'kdjk_19', 'kdjk_20', 'rsv_21', 'kdjk_22', 'kdjk_24', 'rsv_25', 'kdjk_25', 'kdjk_26', 'rsi_7_CL=F', 'rsi_10_CL=F', 'rsi_12_CL=F', 'rsi_15_CL=F', 'rsi_16_CL=F', 'rsi_18_CL=F', 'rsi_21_CL=F', 'wr_11_CL=F', 'wr_12_CL=F', 'wr_13_CL=F', 'wr_18_CL=F', 'wr_22_CL=F', 'mfi_7_CL=F', 'mfi_8_CL=F', 'mfi_9_CL=F', 'mfi_12_CL=F', 'mfi_14_CL=F', 'mfi_17_CL=F', 'mfi_20_CL=F', 'mfi_23_CL=F', 'mfi_24_CL=F', 'mfi_25_CL=F', 'cmf_8_CL=F', 'cmf_14_CL=F', 'cmf_15_CL=F', 'cmf_19_CL=F', 'cmo_8_CL=F', 'cmo_9_CL=F', 'cmo_12_CL=F', 'cmo_15_CL=F', 'cmo_19_CL=F', 'cmo_22_CL=F', 'open_sma_9_CL=F', 'open_sma_13_CL=F', 'open_sma_16_CL=F', 'open_sma_24_CL=F', 'ema_22_CL=F', 'ema_23_CL=F', 'ema_24_CL=F', 'wma_6_CL=F', 'wma_7_CL=F', 'wma_9_CL=F', 'wma_19_CL=F', 'hma_0_CL=F', 'hma_1_CL=F', 'hma_2_CL=F', 'hma_3_CL=F', 'hma_4_CL=F', 'hma_5_CL=F', 'hma_6_CL=F', 'hma_7_CL=F', 'hma_11_CL=F', 'hma_13_CL=F', 'hma_14_CL=F', 'hma_15_CL=F', 'hma_19_CL=F', 'hma_20_CL=F', 'trix_22_CL=F', 'trix_23_CL=F', 'trix_24_CL=F', 'trix_25_CL=F', 'cci_8_CL=F', 'cci_12_CL=F', 'cci_20_CL=F', 'dpo_9_CL=F', 'dpo_14_CL=F', 'dpo_19_CL=F', 'kst_6_CL=F', 'kst_7_CL=F', 'kst_13_CL=F', 'dmi_12_CL=F', 'dmi_14_CL=F', 'dmi_15_CL=F', 'bb_6_CL=F', 'bb_7_CL=F', 'bb_10_CL=F', 'bb_11_CL=F', 'bb_25_CL=F', 'bb_26_CL=F', 'kdjk_7_CL=F', 'kdjk_9_CL=F', 'rsv_11_CL=F', 'rsv_12_CL=F', 'kdjk_12_CL=F', 'rsv_13_CL=F', 'rsv_18_CL=F', 'kdjk_18_CL=F', 'kdjk_20_CL=F', 'rsv_22_CL=F', 'kdjk_23_CL=F', 'kdjk_25_CL=F', 'unnamed: 0_EURUSD=X', 'open_EURUSD=X', 'high_EURUSD=X', 'rsi_12_EURUSD=X', 'rsi_16_EURUSD=X', 'rsi_17_EURUSD=X', 'wr_6_EURUSD=X', 'wr_7_EURUSD=X', 'wr_9_EURUSD=X', 'wr_10_EURUSD=X', 'wr_11_EURUSD=X', 'wr_12_EURUSD=X', 'wr_13_EURUSD=X', 'wr_15_EURUSD=X', 'wr_16_EURUSD=X', 'wr_17_EURUSD=X', 'wr_19_EURUSD=X', 'wr_20_EURUSD=X', 'wr_21_EURUSD=X', 'wr_25_EURUSD=X', 'mfi_6_EURUSD=X', 'mfi_10_EURUSD=X', 'mfi_13_EURUSD=X', 'mfi_20_EURUSD=X', 'mfi_24_EURUSD=X', 'roc_18_EURUSD=X', 'roc_26_EURUSD=X', 'cmf_8_EURUSD=X', 'cmf_11_EURUSD=X', 'cmf_21_EURUSD=X', 'cmf_24_EURUSD=X', 'cmo_6_EURUSD=X', 'open_sma_6_EURUSD=X', 'open_sma_7_EURUSD=X', 'open_sma_9_EURUSD=X', 'ema_6_EURUSD=X', 'ema_7_EURUSD=X', 'ema_8_EURUSD=X', 'ema_10_EURUSD=X', 'ema_11_EURUSD=X', 'ema_16_EURUSD=X', 'ema_18_EURUSD=X', 'wma_7_EURUSD=X', 'wma_8_EURUSD=X', 'wma_9_EURUSD=X', 'wma_10_EURUSD=X', 'wma_11_EURUSD=X', 'wma_14_EURUSD=X', 'wma_15_EURUSD=X', 'hma_16_EURUSD=X', 'hma_18_EURUSD=X', 'trix_7_EURUSD=X', 'trix_10_EURUSD=X', 'trix_14_EURUSD=X', 'trix_19_EURUSD=X', 'trix_20_EURUSD=X', 'trix_21_EURUSD=X', 'trix_22_EURUSD=X', 'trix_23_EURUSD=X', 'trix_24_EURUSD=X', 'trix_25_EURUSD=X', 'cci_10_EURUSD=X', 'cci_12_EURUSD=X', 'cci_18_EURUSD=X', 'cci_20_EURUSD=X', 'dpo_6_EURUSD=X', 'dpo_9_EURUSD=X', 'dpo_15_EURUSD=X', 'dpo_19_EURUSD=X', 'dpo_24_EURUSD=X', 'kst_12_EURUSD=X', 'kst_13_EURUSD=X', 'dmi_9_EURUSD=X', 'dmi_10_EURUSD=X', 'dmi_12_EURUSD=X', 'dmi_18_EURUSD=X', 'dmi_21_EURUSD=X', 'bb_6_EURUSD=X', 'bb_7_EURUSD=X', 'fi_8_EURUSD=X', 'fi_11_EURUSD=X', 'fi_19_EURUSD=X', 'rsv_6_EURUSD=X', 'rsv_7_EURUSD=X', 'kdjk_7_EURUSD=X', 'rsv_9_EURUSD=X', 'rsv_10_EURUSD=X', 'kdjk_10_EURUSD=X', 'rsv_11_EURUSD=X', 'rsv_12_EURUSD=X', 'rsv_13_EURUSD=X', 'rsv_15_EURUSD=X', 'rsv_16_EURUSD=X', 'rsv_17_EURUSD=X', 'kdjk_17_EURUSD=X', 'kdjk_18_EURUSD=X', 'rsv_19_EURUSD=X', 'kdjk_19_EURUSD=X', 'rsv_20_EURUSD=X', 'kdjk_20_EURUSD=X', 'rsv_21_EURUSD=X', 'kdjk_21_EURUSD=X', 'kdjk_22_EURUSD=X', 'kdjk_23_EURUSD=X', 'rsv_25_EURUSD=X', 'kdjk_25_EURUSD=X', 'eom_7_EURUSD=X', 'eom_9_EURUSD=X', 'eom_17_EURUSD=X')\n",
      "[   8    9   13   15   19   20   21   23   24   28   29   30   31   32\n",
      "   33   34   35   36   41   45   47   49   50   54   56   57   64   70\n",
      "   71   73   80   83   90   98   99  107  110  112  113  115  119  121\n",
      "  122  123  155  156  157  158  165  166  187  188  201  202  203  204\n",
      "  205  206  207  208  209  210  211  212  213  214  235  250  255  260\n",
      "  263  267  270  276  284  285  287  293  301  312  317  337  338  341\n",
      "  343  345  347  348  351  352  353  354  360  361  376  377  378  379\n",
      "  408  409  410  412  414  416  418  419  420  422  424  425  427  429\n",
      "  431  433  434  437  441  442  443  445  474  477  479  482  483  485\n",
      "  488  499  500  501  506  510  516  517  518  521  523  526  529  532\n",
      "  533  534  559  565  566  570  580  581  584  587  591  594  602  606\n",
      "  609  617  636  637  638  641  642  644  654  662  663  664  665  666\n",
      "  667  668  669  673  675  676  677  681  682  699  700  701  702  706\n",
      "  710  718  728  733  738  746  747  753  773  775  776  788  789  792\n",
      "  793  807  808  833  837  840  842  843  844  854  855  859  862  865\n",
      "  869  893  894  895  905  909  910  920  921  923  924  925  926  927\n",
      "  929  930  931  933  934  935  939  941  945  948  955  959  974  982\n",
      "  985  988  998 1001 1004 1025 1026 1028 1046 1047 1048 1050 1051 1056\n",
      " 1058 1068 1069 1070 1071 1072 1075 1076 1104 1106 1110 1113 1117 1122\n",
      " 1123 1124 1125 1126 1127 1128 1134 1136 1142 1144 1151 1154 1160 1164\n",
      " 1169 1178 1179 1196 1197 1199 1205 1208 1214 1215 1237 1240 1248 1256\n",
      " 1258 1259 1262 1264 1265 1266 1268 1270 1274 1276 1278 1279 1281 1282\n",
      " 1283 1284 1285 1286 1287 1289 1291 1294 1295 1299 1301 1309]\n",
      "CPU times: user 15 s, sys: 249 ms, total: 15.2 s\n",
      "Wall time: 16.7 s\n"
     ]
    }
   ],
   "source": [
    "%%time\n",
    "from operator import itemgetter\n",
    "from sklearn.feature_selection import SelectKBest, f_classif, mutual_info_classif\n",
    "\n",
    "if selection_method == 'anova' or selection_method == 'all':\n",
    "    select_k_best = SelectKBest(f_classif, k=topk)\n",
    "    if selection_method != 'all':\n",
    "        x_train = select_k_best.fit_transform(x_main, y_train)\n",
    "        x_cv = select_k_best.transform(x_cv)\n",
    "        x_test = select_k_best.transform(x_test)\n",
    "    else:\n",
    "        select_k_best.fit(x_main, y_train)\n",
    "    \n",
    "    selected_features_anova = itemgetter(*select_k_best.get_support(indices=True))(list_features)\n",
    "    print(selected_features_anova)\n",
    "    print(select_k_best.get_support(indices=True))\n",
    "    print(\"****************************************\")\n",
    "    \n",
    "if selection_method == 'mutual_info' or selection_method == 'all':\n",
    "    select_k_best = SelectKBest(mutual_info_classif, k=topk)\n",
    "    if selection_method != 'all':\n",
    "        x_train = select_k_best.fit_transform(x_main, y_train)\n",
    "        x_cv = select_k_best.transform(x_cv)\n",
    "        x_test = select_k_best.transform(x_test)\n",
    "    else:\n",
    "        select_k_best.fit(x_main, y_train)\n",
    "\n",
    "    selected_features_mic = itemgetter(*select_k_best.get_support(indices=True))(list_features)\n",
    "    print(len(selected_features_mic), selected_features_mic)\n",
    "    print(select_k_best.get_support(indices=True))"
   ]
  },
  {
   "cell_type": "code",
   "execution_count": 46,
   "metadata": {
    "scrolled": true
   },
   "outputs": [
    {
     "name": "stdout",
     "output_type": "stream",
     "text": [
      "common selected featues 100 ['kdjk_26', 'kdjk_9_CL=F', 'kdjk_19', 'wr_21', 'trix_25', 'rsi_10_CL=F', 'rsi_16_CL=F', 'cmo_6', 'rsv_10', 'mfi_9_CL=F', 'rsv_16', 'dmi_12', 'wr_15', 'cmo_9_CL=F', 'roc_18_EURUSD=X', 'rsi_9', 'dmi_18', 'cmo_19_CL=F', 'cmo_15_CL=F', 'dmi_6', 'rsv_8', 'dmi_17', 'dmi_26', 'rsi_18_CL=F', 'kdjk_7_EURUSD=X', 'dmi_10', 'rsv_12', 'rsv_14', 'wr_12', 'kdjk_8', 'rsi_21_CL=F', 'cmo_11', 'roc_26_EURUSD=X', 'trix_9', 'mfi_20_CL=F', 'roc_18', 'cci_21', 'trix_19', 'mfi_7_CL=F', 'wr_25', 'cci_13', 'rsi_15_CL=F', 'mfi_17_CL=F', 'kdjk_24', 'rsi_16_EURUSD=X', 'cci_15', 'roc_9', 'cmf_19_CL=F', 'mfi_14_CL=F', 'wr_11', 'rsi_17_EURUSD=X', 'kdjk_22', 'mfi_8', 'rsv_9', 'mfi_9', 'dpo_19', 'mfi_8_CL=F', 'wr_11_EURUSD=X', 'mfi_23_CL=F', 'rsi_14', 'cci_12', 'dmi_13', 'rsv_13', 'roc_21', 'wr_8', 'wr_9', 'mfi_6', 'kdjk_7_CL=F', 'roc_8', 'wr_13', 'rsv_11_EURUSD=X', 'dmi_25', 'rsv_11', 'kdjk_13', 'cmo_9', 'kdjk_18', 'kdjk_20', 'cmo_8', 'dpo_8', 'rsv_15', 'cmo_8_CL=F', 'dpo_14_CL=F', 'wr_16', 'roc_11', 'cmf_7', 'dmi_16', 'dmi_19', 'kdjk_17', 'kdjk_25', 'wr_14', 'dpo_15_EURUSD=X', 'rsv_25', 'rsv_21', 'rsi_10', 'kdjk_10_EURUSD=X', 'wr_10', 'kdjk_16', 'rsi_7_CL=F', 'cmo_22_CL=F', 'dmi_8']\n"
     ]
    },
    {
     "ename": "Exception",
     "evalue": "number of common features found 100 < 225 required features. Increase \"topk variable\"",
     "output_type": "error",
     "traceback": [
      "\u001b[0;31m---------------------------------------------------------------------------\u001b[0m",
      "\u001b[0;31mException\u001b[0m                                 Traceback (most recent call last)",
      "\u001b[0;32m/var/folders/jr/qy0bs70j6qngjxk4pyvhj9_w0000gn/T/ipykernel_50599/574824041.py\u001b[0m in \u001b[0;36m<module>\u001b[0;34m\u001b[0m\n\u001b[1;32m      3\u001b[0m     \u001b[0mprint\u001b[0m\u001b[0;34m(\u001b[0m\u001b[0;34m\"common selected featues\"\u001b[0m\u001b[0;34m,\u001b[0m \u001b[0mlen\u001b[0m\u001b[0;34m(\u001b[0m\u001b[0mcommon\u001b[0m\u001b[0;34m)\u001b[0m\u001b[0;34m,\u001b[0m \u001b[0mcommon\u001b[0m\u001b[0;34m)\u001b[0m\u001b[0;34m\u001b[0m\u001b[0;34m\u001b[0m\u001b[0m\n\u001b[1;32m      4\u001b[0m     \u001b[0;32mif\u001b[0m \u001b[0mlen\u001b[0m\u001b[0;34m(\u001b[0m\u001b[0mcommon\u001b[0m\u001b[0;34m)\u001b[0m \u001b[0;34m<\u001b[0m \u001b[0mnum_features\u001b[0m\u001b[0;34m:\u001b[0m\u001b[0;34m\u001b[0m\u001b[0;34m\u001b[0m\u001b[0m\n\u001b[0;32m----> 5\u001b[0;31m         \u001b[0;32mraise\u001b[0m \u001b[0mException\u001b[0m\u001b[0;34m(\u001b[0m\u001b[0;34m'number of common features found {} < {} required features. Increase \"topk variable\"'\u001b[0m\u001b[0;34m.\u001b[0m\u001b[0mformat\u001b[0m\u001b[0;34m(\u001b[0m\u001b[0mlen\u001b[0m\u001b[0;34m(\u001b[0m\u001b[0mcommon\u001b[0m\u001b[0;34m)\u001b[0m\u001b[0;34m,\u001b[0m \u001b[0mnum_features\u001b[0m\u001b[0;34m)\u001b[0m\u001b[0;34m)\u001b[0m\u001b[0;34m\u001b[0m\u001b[0;34m\u001b[0m\u001b[0m\n\u001b[0m\u001b[1;32m      6\u001b[0m     \u001b[0mfeat_idx\u001b[0m \u001b[0;34m=\u001b[0m \u001b[0;34m[\u001b[0m\u001b[0;34m]\u001b[0m\u001b[0;34m\u001b[0m\u001b[0;34m\u001b[0m\u001b[0m\n\u001b[1;32m      7\u001b[0m     \u001b[0;32mfor\u001b[0m \u001b[0mc\u001b[0m \u001b[0;32min\u001b[0m \u001b[0mcommon\u001b[0m\u001b[0;34m:\u001b[0m\u001b[0;34m\u001b[0m\u001b[0;34m\u001b[0m\u001b[0m\n",
      "\u001b[0;31mException\u001b[0m: number of common features found 100 < 225 required features. Increase \"topk variable\""
     ]
    }
   ],
   "source": [
    "if selection_method == 'all':\n",
    "    common = list(set(selected_features_anova).intersection(selected_features_mic))\n",
    "    print(\"common selected featues\", len(common), common)\n",
    "    if len(common) < num_features:\n",
    "        raise Exception('number of common features found {} < {} required features. Increase \"topk variable\"'.format(len(common), num_features))\n",
    "    feat_idx = []\n",
    "    for c in common:\n",
    "        feat_idx.append(list_features.index(c))\n",
    "    feat_idx = sorted(feat_idx[0:225])\n",
    "    print(feat_idx)"
   ]
  },
  {
   "cell_type": "code",
   "execution_count": 14,
   "metadata": {},
   "outputs": [
    {
     "name": "stdout",
     "output_type": "stream",
     "text": [
      "Shape of x, y train/cv/test (1899, 225) (1899,) (475, 225) (475,) (594, 225) (594,)\n"
     ]
    }
   ],
   "source": [
    "if selection_method == 'all':\n",
    "    x_train = x_train[:, feat_idx]\n",
    "    x_cv = x_cv[:, feat_idx]\n",
    "    x_test = x_test[:, feat_idx]\n",
    "\n",
    "print(\"Shape of x, y train/cv/test {} {} {} {} {} {}\".format(x_train.shape, \n",
    "                                                             y_train.shape, x_cv.shape, y_cv.shape, x_test.shape, y_test.shape))"
   ]
  },
  {
   "cell_type": "code",
   "execution_count": 15,
   "metadata": {},
   "outputs": [
    {
     "name": "stdout",
     "output_type": "stream",
     "text": [
      "percentage of class 0 = 7.003686150605581, class 1 = 88.62559241706161\n"
     ]
    }
   ],
   "source": [
    "_labels, _counts = np.unique(y_train, return_counts=True)\n",
    "print(\"percentage of class 0 = {}, class 1 = {}\".format(_counts[0]/len(y_train) * 100, _counts[1]/len(y_train) * 100))"
   ]
  },
  {
   "cell_type": "code",
   "execution_count": 24,
   "metadata": {},
   "outputs": [],
   "source": [
    "from sklearn.utils.class_weight import compute_class_weight\n",
    "import tensorflow as tf\n",
    "from tensorflow.keras import backend as K\n",
    "from tensorflow.keras.utils import get_custom_objects\n",
    "from utils import reshape_array_as_image\n",
    "from metrics import f1_weighted, f1_metric\n",
    "\n",
    "def get_sample_weights(y): # TODO add source\n",
    "    \"\"\"\n",
    "    calculate the sample weights based on class weights. Used for models with\n",
    "    imbalanced data and one hot encoding prediction.\n",
    "\n",
    "    params:\n",
    "        y: class labels as integers\n",
    "    \"\"\"\n",
    "\n",
    "    y = y.astype(int)  # compute_class_weight needs int labels\n",
    "    class_weights = compute_class_weight(class_weight = \"balanced\", classes = np.unique(y),y = y)\n",
    "    print(\"real class weights are {}\".format(class_weights), np.unique(y))\n",
    "    print(\"value_counts\", np.unique(y, return_counts=True))\n",
    "    sample_weights = y.copy().astype(float)\n",
    "    for i in set(y): #np.unique\n",
    "        sample_weights[sample_weights == i] = class_weights[i]  # if i == 2 else 0.8 * class_weights[i]\n",
    "        # sample_weights = np.where(sample_weights == i, class_weights[int(i)], y_)\n",
    "\n",
    "    return sample_weights\n",
    "\n",
    "get_custom_objects().update({\"f1_metric\": f1_metric, \"f1_weighted\": f1_weighted}) # why?"
   ]
  },
  {
   "cell_type": "code",
   "execution_count": 25,
   "metadata": {
    "scrolled": false
   },
   "outputs": [
    {
     "name": "stdout",
     "output_type": "stream",
     "text": [
      "real class weights are [4.7593985  0.37611408 7.62650602] [-1  0  1]\n",
      "value_counts (array([-1,  0,  1]), array([ 133, 1683,   83]))\n",
      "Test sample_weights\n",
      "[ 0  0  0  0  0  0  0  0  0  0  0  0 -1  0  0  0  0 -1  0  0  0  0  0  0\n",
      " -1  0  0  0  0  0]\n",
      "[4.7593985  4.7593985  4.7593985  4.7593985  4.7593985  4.7593985\n",
      " 4.7593985  4.7593985  4.7593985  4.7593985  4.7593985  4.7593985\n",
      " 7.62650602 4.7593985  4.7593985  4.7593985  4.7593985  7.62650602\n",
      " 4.7593985  4.7593985  4.7593985  4.7593985  4.7593985  4.7593985\n",
      " 7.62650602 4.7593985  4.7593985  4.7593985  4.7593985  4.7593985 ]\n"
     ]
    }
   ],
   "source": [
    "sample_weights = get_sample_weights(y_train)\n",
    "print(\"Test sample_weights\")\n",
    "rand_idx = np.random.randint(0, 1000, 30)\n",
    "print(y_train[rand_idx])\n",
    "print(sample_weights[rand_idx])"
   ]
  },
  {
   "cell_type": "code",
   "execution_count": 26,
   "metadata": {},
   "outputs": [
    {
     "name": "stdout",
     "output_type": "stream",
     "text": [
      "y_train (1899, 3)\n"
     ]
    }
   ],
   "source": [
    "one_hot_enc = OneHotEncoder(sparse=False, categories='auto')  # , categories='auto'\n",
    "y_train = one_hot_enc.fit_transform(y_train.reshape(-1, 1))\n",
    "print(\"y_train\",y_train.shape)\n",
    "y_cv = one_hot_enc.transform(y_cv.reshape(-1, 1))\n",
    "y_test = one_hot_enc.transform(y_test.reshape(-1, 1))"
   ]
  },
  {
   "cell_type": "code",
   "execution_count": 27,
   "metadata": {},
   "outputs": [
    {
     "data": {
      "text/plain": [
       "(225,)"
      ]
     },
     "execution_count": 27,
     "metadata": {},
     "output_type": "execute_result"
    }
   ],
   "source": [
    "x_train[0].shape"
   ]
  },
  {
   "cell_type": "code",
   "execution_count": 28,
   "metadata": {},
   "outputs": [
    {
     "name": "stdout",
     "output_type": "stream",
     "text": [
      "final shape of x, y train/test (1899, 15, 15, 3) (1899, 3) (594, 15, 15, 3) (594, 3)\n"
     ]
    }
   ],
   "source": [
    "dim = int(np.sqrt(num_features))\n",
    "x_train = reshape_array_as_image(x_train, dim, dim)\n",
    "x_cv = reshape_array_as_image(x_cv, dim, dim)\n",
    "x_test = reshape_array_as_image(x_test, dim, dim)\n",
    "# adding a 1-dim for channels (3)\n",
    "x_train = np.stack((x_train,) * 3, axis=-1)\n",
    "x_test = np.stack((x_test,) * 3, axis=-1)\n",
    "x_cv = np.stack((x_cv,) * 3, axis=-1)\n",
    "print(\"final shape of x, y train/test {} {} {} {}\".format(x_train.shape, y_train.shape, x_test.shape, y_test.shape))"
   ]
  },
  {
   "cell_type": "code",
   "execution_count": 29,
   "metadata": {},
   "outputs": [
    {
     "data": {
      "image/png": "[encoded data removed]",
      "text/plain": [
       "<Figure size 1080x1080 with 9 Axes>"
      ]
     },
     "metadata": {
      "needs_background": "light"
     },
     "output_type": "display_data"
    }
   ],
   "source": [
    "from matplotlib import pyplot as plt\n",
    "%matplotlib inline\n",
    "\n",
    "fig = plt.figure(figsize=(15, 15))\n",
    "columns = rows = 3\n",
    "for i in range(1, columns*rows +1):\n",
    "    index = np.random.randint(len(x_train))\n",
    "    img = x_train[index]\n",
    "    fig.add_subplot(rows, columns, i)\n",
    "    plt.axis(\"off\")\n",
    "    plt.title('image_'+str(index)+'_class_'+str(np.argmax(y_train[index])), fontsize=10)\n",
    "    plt.subplots_adjust(wspace=0.2, hspace=0.2)\n",
    "    plt.imshow(img)\n",
    "plt.show()"
   ]
  },
  {
   "cell_type": "code",
   "execution_count": 30,
   "metadata": {},
   "outputs": [
    {
     "name": "stderr",
     "output_type": "stream",
     "text": [
      "Clipping input data to the valid range for imshow with RGB data ([0..1] for floats or [0..255] for integers).\n"
     ]
    },
    {
     "data": {
      "image/png": "[encoded data removed]",
      "text/plain": [
       "<Figure size 1080x1080 with 9 Axes>"
      ]
     },
     "metadata": {
      "needs_background": "light"
     },
     "output_type": "display_data"
    }
   ],
   "source": [
    "from utils import print_with_timestamp, show_images\n",
    "show_images(3,3, arr=x_train)"
   ]
  },
  {
   "cell_type": "code",
   "execution_count": 31,
   "metadata": {},
   "outputs": [
    {
     "data": {
      "text/plain": [
       "(15, 15, 3)"
      ]
     },
     "execution_count": 31,
     "metadata": {},
     "output_type": "execute_result"
    }
   ],
   "source": [
    "x_train[0].shape"
   ]
  },
  {
   "cell_type": "code",
   "execution_count": 32,
   "metadata": {},
   "outputs": [
    {
     "data": {
      "text/plain": [
       "<matplotlib.image.AxesImage at 0x15ce87880>"
      ]
     },
     "execution_count": 32,
     "metadata": {},
     "output_type": "execute_result"
    },
    {
     "data": {
      "image/png": "[encoded data removed]",
      "text/plain": [
       "<Figure size 432x288 with 1 Axes>"
      ]
     },
     "metadata": {
      "needs_background": "light"
     },
     "output_type": "display_data"
    }
   ],
   "source": [
    "test = [i for i in range(225)]\n",
    "test = np.array(test).reshape(-1, 1)\n",
    "#test = scaler.fit_transform(test)\n",
    "dim = int(np.sqrt(num_features))\n",
    "test = np.reshape(test, (dim, dim))\n",
    "plt.imshow(test)"
   ]
  },
  {
   "cell_type": "code",
   "execution_count": 33,
   "metadata": {},
   "outputs": [
    {
     "data": {
      "text/plain": [
       "array([[  0,   1,   2,   3,   4,   5,   6,   7,   8,   9,  10,  11,  12,\n",
       "         13,  14,  15,  16,  17,  18,  19,  20,  21,  22,  23,  24,  25,\n",
       "         26,  27,  28,  29,  30,  31,  32,  33,  34,  35,  36,  37,  38,\n",
       "         39,  40,  41,  42,  43,  44,  45,  46,  47,  48,  49,  50,  51,\n",
       "         52,  53,  54,  55,  56,  57,  58,  59,  60,  61,  62,  63,  64,\n",
       "         65,  66,  67,  68,  69,  70,  71,  72,  73,  74,  75,  76,  77,\n",
       "         78,  79,  80,  81,  82,  83,  84,  85,  86,  87,  88,  89,  90,\n",
       "         91,  92,  93,  94,  95,  96,  97,  98,  99, 100, 101, 102, 103,\n",
       "        104, 105, 106, 107, 108, 109, 110, 111, 112, 113, 114, 115, 116,\n",
       "        117, 118, 119, 120, 121, 122, 123, 124, 125, 126, 127, 128, 129,\n",
       "        130, 131, 132, 133, 134, 135, 136, 137, 138, 139, 140, 141, 142,\n",
       "        143, 144, 145, 146, 147, 148, 149, 150, 151, 152, 153, 154, 155,\n",
       "        156, 157, 158, 159, 160, 161, 162, 163, 164, 165, 166, 167, 168,\n",
       "        169, 170, 171, 172, 173, 174, 175, 176, 177, 178, 179, 180, 181,\n",
       "        182, 183, 184, 185, 186, 187, 188, 189, 190, 191, 192, 193, 194,\n",
       "        195, 196, 197, 198, 199, 200, 201, 202, 203, 204, 205, 206, 207,\n",
       "        208, 209, 210, 211, 212, 213, 214, 215, 216, 217, 218, 219, 220,\n",
       "        221, 222, 223, 224]])"
      ]
     },
     "execution_count": 33,
     "metadata": {},
     "output_type": "execute_result"
    }
   ],
   "source": [
    "np.array(test).reshape(1, -1)"
   ]
  },
  {
   "cell_type": "code",
   "execution_count": 34,
   "metadata": {},
   "outputs": [],
   "source": [
    "from tensorflow.keras.models import Sequential, load_model, Model\n",
    "from tensorflow.keras.layers import Dense, Dropout\n",
    "from tensorflow.keras.layers import Conv2D, MaxPool2D, Flatten, LeakyReLU\n",
    "from tensorflow.keras.callbacks import ModelCheckpoint, EarlyStopping, ReduceLROnPlateau, CSVLogger, Callback\n",
    "from tensorflow.keras import optimizers\n",
    "from tensorflow.keras.regularizers import l2, l1, l1_l2\n",
    "from tensorflow.keras.initializers import RandomUniform, RandomNormal\n",
    "from tensorflow.keras.models import load_model\n",
    "from tensorflow.keras import regularizers\n",
    "\n",
    "params = {'batch_size': 80, 'conv2d_layers': {'conv2d_do_1': 0.2, 'conv2d_filters_1': 32, 'conv2d_kernel_size_1': 3, 'conv2d_mp_1': 0, \n",
    "                                               'conv2d_strides_1': 1, 'kernel_regularizer_1': 0.0, 'conv2d_do_2': 0.3, \n",
    "                                               'conv2d_filters_2': 64, 'conv2d_kernel_size_2': 3, 'conv2d_mp_2': 2, 'conv2d_strides_2': 1, \n",
    "                                               'kernel_regularizer_2': 0.0, 'layers': 'two'}, \n",
    "           'dense_layers': {'dense_do_1': 0.3, 'dense_nodes_1': 128, 'kernel_regularizer_1': 0.0, 'layers': 'one'},\n",
    "           'epochs': 50, 'lr': 0.001, 'optimizer': 'adam'}\n"
   ]
  },
  {
   "cell_type": "code",
   "execution_count": 35,
   "metadata": {},
   "outputs": [],
   "source": [
    "from functools import *\n",
    "from sklearn.metrics import f1_score\n",
    "from tensorflow.keras.metrics import AUC\n",
    "\n",
    "def f1_custom(y_true, y_pred):\n",
    "    y_t = np.argmax(y_true, axis=1)\n",
    "    y_p = np.argmax(y_pred, axis=1)\n",
    "    f1_score(y_t, y_p, labels=None, average='weighted', sample_weight=None, zero_division='warn')\n",
    "\n",
    "def create_model_cnn(params):\n",
    "    model = Sequential()\n",
    "\n",
    "    print(\"Training with params {}\".format(params))\n",
    "    \n",
    "    conv2d_layer1 = Conv2D(params[\"conv2d_layers\"][\"conv2d_filters_1\"],\n",
    "                           params[\"conv2d_layers\"][\"conv2d_kernel_size_1\"],\n",
    "                           strides=params[\"conv2d_layers\"][\"conv2d_strides_1\"],\n",
    "                           kernel_regularizer=regularizers.l2(params[\"conv2d_layers\"][\"kernel_regularizer_1\"]), \n",
    "                           padding='same',activation=\"relu\", use_bias=True,\n",
    "                           kernel_initializer='glorot_uniform',\n",
    "                           input_shape=(x_train[0].shape[0],\n",
    "                                        x_train[0].shape[1], x_train[0].shape[2]))\n",
    "    model.add(conv2d_layer1)\n",
    "    if params[\"conv2d_layers\"]['conv2d_mp_1'] > 1:\n",
    "        model.add(MaxPool2D(pool_size=params[\"conv2d_layers\"]['conv2d_mp_1']))\n",
    "        \n",
    "    model.add(Dropout(params['conv2d_layers']['conv2d_do_1']))\n",
    "    if params[\"conv2d_layers\"]['layers'] == 'two':\n",
    "        conv2d_layer2 = Conv2D(params[\"conv2d_layers\"][\"conv2d_filters_2\"],\n",
    "                               params[\"conv2d_layers\"][\"conv2d_kernel_size_2\"],\n",
    "                               strides=params[\"conv2d_layers\"][\"conv2d_strides_2\"],\n",
    "                               kernel_regularizer=regularizers.l2(params[\"conv2d_layers\"][\"kernel_regularizer_2\"]),\n",
    "                               padding='same',activation=\"relu\", use_bias=True,\n",
    "                               kernel_initializer='glorot_uniform')\n",
    "        model.add(conv2d_layer2)\n",
    "        \n",
    "        if params[\"conv2d_layers\"]['conv2d_mp_2'] > 1:\n",
    "            model.add(MaxPool2D(pool_size=params[\"conv2d_layers\"]['conv2d_mp_2']))\n",
    "        \n",
    "        model.add(Dropout(params['conv2d_layers']['conv2d_do_2']))\n",
    "\n",
    "    model.add(Flatten())\n",
    "\n",
    "    model.add(Dense(params['dense_layers'][\"dense_nodes_1\"], activation='relu'))\n",
    "    model.add(Dropout(params['dense_layers']['dense_do_1']))\n",
    "\n",
    "    if params['dense_layers'][\"layers\"] == 'two':\n",
    "        model.add(Dense(params['dense_layers'][\"dense_nodes_2\"], activation='relu', \n",
    "                        kernel_regularizer=params['dense_layers'][\"kernel_regularizer_1\"]))\n",
    "        model.add(Dropout(params['dense_layers']['dense_do_2']))\n",
    "\n",
    "    model.add(Dense(3, activation='softmax'))\n",
    "    \n",
    "    if params[\"optimizer\"] == 'rmsprop':\n",
    "        optimizer = optimizers.RMSprop(lr=params[\"lr\"])\n",
    "    elif params[\"optimizer\"] == 'sgd':\n",
    "        optimizer = optimizers.SGD(lr=params[\"lr\"], decay=1e-6, momentum=0.9, nesterov=True)\n",
    "    elif params[\"optimizer\"] == 'adam':\n",
    "        optimizer = optimizers.Adam(learning_rate=params[\"lr\"], beta_1=0.9, beta_2=0.999, amsgrad=False)\n",
    "    \n",
    "    model.compile(loss='categorical_crossentropy', optimizer=optimizer, metrics=['accuracy', f1_metric])\n",
    "    \n",
    "    return model\n",
    "\n",
    "def check_baseline(pred, y_test):\n",
    "    print(\"size of test set\", len(y_test))\n",
    "    e = np.equal(pred, y_test)\n",
    "    print(\"TP class counts\", np.unique(y_test[e], return_counts=True))\n",
    "    print(\"True class counts\", np.unique(y_test, return_counts=True))\n",
    "    print(\"Pred class counts\", np.unique(pred, return_counts=True))\n",
    "    holds = np.unique(y_test, return_counts=True)[1][2]  # number 'hold' predictions\n",
    "    print(\"baseline acc:\", (holds/len(y_test)*100))"
   ]
  },
  {
   "cell_type": "code",
   "execution_count": 36,
   "metadata": {},
   "outputs": [
    {
     "name": "stdout",
     "output_type": "stream",
     "text": [
      "Training with params {'batch_size': 80, 'conv2d_layers': {'conv2d_do_1': 0.2, 'conv2d_filters_1': 32, 'conv2d_kernel_size_1': 3, 'conv2d_mp_1': 0, 'conv2d_strides_1': 1, 'kernel_regularizer_1': 0.0, 'conv2d_do_2': 0.3, 'conv2d_filters_2': 64, 'conv2d_kernel_size_2': 3, 'conv2d_mp_2': 2, 'conv2d_strides_2': 1, 'kernel_regularizer_2': 0.0, 'layers': 'two'}, 'dense_layers': {'dense_do_1': 0.3, 'dense_nodes_1': 128, 'kernel_regularizer_1': 0.0, 'layers': 'one'}, 'epochs': 200, 'lr': 0.001, 'optimizer': 'adam'}\n",
      "WARNING:tensorflow:`period` argument is deprecated. Please use `save_freq` to specify the frequency in number of batches seen.\n"
     ]
    },
    {
     "name": "stderr",
     "output_type": "stream",
     "text": [
      "2021-11-24 12:15:07.649310: I tensorflow/core/platform/cpu_feature_guard.cc:151] This TensorFlow binary is optimized with oneAPI Deep Neural Network Library (oneDNN) to use the following CPU instructions in performance-critical operations:  AVX2 FMA\n",
      "To enable them in other operations, rebuild TensorFlow with the appropriate compiler flags.\n"
     ]
    }
   ],
   "source": [
    "import os\n",
    "from IPython.display import SVG\n",
    "from tensorflow.keras.utils import plot_model\n",
    "\n",
    "model = create_model_cnn(params)\n",
    "\n",
    "best_model_path = os.path.join('.', 'best_model_keras')\n",
    "es = EarlyStopping(monitor='val_loss', mode='min', verbose=1,\n",
    "                   patience=100, min_delta=0.0001)\n",
    "# csv_logger = CSVLogger(os.path.join(OUTPUT_PATH, 'log_training_batch.log'), append=True)\n",
    "rlp = ReduceLROnPlateau(monitor='val_loss', factor=0.02, patience=20, verbose=1, mode='min',\n",
    "                        min_delta=0.001, cooldown=1, min_lr=0.0001)\n",
    "mcp = ModelCheckpoint(best_model_path, monitor='val_f1_metric', verbose=1,\n",
    "                      save_best_only=True, save_weights_only=False, mode='max', period=1)  # val_f1_metric"
   ]
  },
  {
   "cell_type": "code",
   "execution_count": 37,
   "metadata": {},
   "outputs": [
    {
     "name": "stdout",
     "output_type": "stream",
     "text": [
      "Epoch 1/200\n",
      "30/30 [==============================] - ETA: 0s - loss: 2.1614 - accuracy: 0.8720 - f1_metric: 0.8573\n",
      "Epoch 00001: val_f1_metric improved from -inf to 0.88383, saving model to ./best_model_keras\n"
     ]
    },
    {
     "name": "stderr",
     "output_type": "stream",
     "text": [
      "2021-11-24 12:15:12.740836: W tensorflow/python/util/util.cc:368] Sets are not currently considered sequences, but this may change in the future, so consider avoiding using them.\n"
     ]
    },
    {
     "name": "stdout",
     "output_type": "stream",
     "text": [
      "INFO:tensorflow:Assets written to: ./best_model_keras/assets\n",
      "30/30 [==============================] - 6s 147ms/step - loss: 2.1614 - accuracy: 0.8720 - f1_metric: 0.8573 - val_loss: 0.5112 - val_accuracy: 0.8863 - val_f1_metric: 0.8838 - lr: 0.0010\n",
      "Epoch 2/200\n",
      "29/30 [============================>.] - ETA: 0s - loss: 1.8626 - accuracy: 0.8879 - f1_metric: 0.8879\n",
      "Epoch 00002: val_f1_metric did not improve from 0.88383\n",
      "30/30 [==============================] - 2s 63ms/step - loss: 1.8827 - accuracy: 0.8863 - f1_metric: 0.8855 - val_loss: 0.4984 - val_accuracy: 0.8863 - val_f1_metric: 0.8838 - lr: 0.0010\n",
      "Epoch 3/200\n",
      "30/30 [==============================] - ETA: 0s - loss: 1.8484 - accuracy: 0.8863 - f1_metric: 0.8860\n",
      "Epoch 00003: val_f1_metric did not improve from 0.88383\n",
      "30/30 [==============================] - 2s 52ms/step - loss: 1.8484 - accuracy: 0.8863 - f1_metric: 0.8860 - val_loss: 0.5110 - val_accuracy: 0.8863 - val_f1_metric: 0.8838 - lr: 0.0010\n",
      "Epoch 4/200\n",
      "29/30 [============================>.] - ETA: 0s - loss: 1.8673 - accuracy: 0.8858 - f1_metric: 0.8858\n",
      "Epoch 00004: val_f1_metric did not improve from 0.88383\n",
      "30/30 [==============================] - 2s 62ms/step - loss: 1.8594 - accuracy: 0.8863 - f1_metric: 0.8865 - val_loss: 0.5101 - val_accuracy: 0.8863 - val_f1_metric: 0.8838 - lr: 0.0010\n",
      "Epoch 5/200\n",
      "29/30 [============================>.] - ETA: 0s - loss: 1.8585 - accuracy: 0.8842 - f1_metric: 0.8842\n",
      "Epoch 00005: val_f1_metric did not improve from 0.88383\n",
      "30/30 [==============================] - 2s 68ms/step - loss: 1.8440 - accuracy: 0.8863 - f1_metric: 0.8872 - val_loss: 0.5142 - val_accuracy: 0.8863 - val_f1_metric: 0.8838 - lr: 0.0010\n",
      "Epoch 6/200\n",
      "29/30 [============================>.] - ETA: 0s - loss: 1.8094 - accuracy: 0.8858 - f1_metric: 0.8858\n",
      "Epoch 00006: val_f1_metric did not improve from 0.88383\n",
      "30/30 [==============================] - 2s 64ms/step - loss: 1.8086 - accuracy: 0.8863 - f1_metric: 0.8865 - val_loss: 0.4888 - val_accuracy: 0.8863 - val_f1_metric: 0.8838 - lr: 0.0010\n",
      "Epoch 7/200\n",
      "30/30 [==============================] - ETA: 0s - loss: 1.8007 - accuracy: 0.8863 - f1_metric: 0.8862\n",
      "Epoch 00007: val_f1_metric did not improve from 0.88383\n",
      "30/30 [==============================] - 2s 79ms/step - loss: 1.8007 - accuracy: 0.8863 - f1_metric: 0.8862 - val_loss: 0.4838 - val_accuracy: 0.8863 - val_f1_metric: 0.8838 - lr: 0.0010\n",
      "Epoch 8/200\n",
      "29/30 [============================>.] - ETA: 0s - loss: 1.7742 - accuracy: 0.8858 - f1_metric: 0.8858\n",
      "Epoch 00008: val_f1_metric did not improve from 0.88383\n",
      "30/30 [==============================] - 2s 77ms/step - loss: 1.7696 - accuracy: 0.8863 - f1_metric: 0.8865 - val_loss: 0.4839 - val_accuracy: 0.8863 - val_f1_metric: 0.8838 - lr: 0.0010\n",
      "Epoch 9/200\n",
      "30/30 [==============================] - ETA: 0s - loss: 1.7762 - accuracy: 0.8863 - f1_metric: 0.8857\n",
      "Epoch 00009: val_f1_metric did not improve from 0.88383\n",
      "30/30 [==============================] - 2s 73ms/step - loss: 1.7762 - accuracy: 0.8863 - f1_metric: 0.8857 - val_loss: 0.4975 - val_accuracy: 0.8863 - val_f1_metric: 0.8838 - lr: 0.0010\n",
      "Epoch 10/200\n",
      "29/30 [============================>.] - ETA: 0s - loss: 1.7899 - accuracy: 0.8863 - f1_metric: 0.8863\n",
      "Epoch 00010: val_f1_metric did not improve from 0.88383\n",
      "30/30 [==============================] - 2s 69ms/step - loss: 1.7899 - accuracy: 0.8863 - f1_metric: 0.8862 - val_loss: 0.4930 - val_accuracy: 0.8863 - val_f1_metric: 0.8838 - lr: 0.0010\n",
      "Epoch 11/200\n",
      "30/30 [==============================] - ETA: 0s - loss: 1.7890 - accuracy: 0.8863 - f1_metric: 0.8875\n",
      "Epoch 00011: val_f1_metric did not improve from 0.88383\n",
      "30/30 [==============================] - 2s 76ms/step - loss: 1.7890 - accuracy: 0.8863 - f1_metric: 0.8875 - val_loss: 0.4714 - val_accuracy: 0.8863 - val_f1_metric: 0.8838 - lr: 0.0010\n",
      "Epoch 12/200\n",
      "29/30 [============================>.] - ETA: 0s - loss: 1.7280 - accuracy: 0.8874 - f1_metric: 0.8874\n",
      "Epoch 00012: val_f1_metric did not improve from 0.88383\n",
      "30/30 [==============================] - 2s 82ms/step - loss: 1.7448 - accuracy: 0.8863 - f1_metric: 0.8857 - val_loss: 0.4971 - val_accuracy: 0.8863 - val_f1_metric: 0.8838 - lr: 0.0010\n",
      "Epoch 13/200\n",
      "30/30 [==============================] - ETA: 0s - loss: 1.7720 - accuracy: 0.8863 - f1_metric: 0.8865\n",
      "Epoch 00013: val_f1_metric did not improve from 0.88383\n",
      "30/30 [==============================] - 2s 65ms/step - loss: 1.7720 - accuracy: 0.8863 - f1_metric: 0.8865 - val_loss: 0.4800 - val_accuracy: 0.8863 - val_f1_metric: 0.8838 - lr: 0.0010\n",
      "Epoch 14/200\n",
      "29/30 [============================>.] - ETA: 0s - loss: 1.7266 - accuracy: 0.8863 - f1_metric: 0.8857\n",
      "Epoch 00014: val_f1_metric did not improve from 0.88383\n",
      "30/30 [==============================] - 2s 67ms/step - loss: 1.7343 - accuracy: 0.8863 - f1_metric: 0.8856 - val_loss: 0.5094 - val_accuracy: 0.8863 - val_f1_metric: 0.8838 - lr: 0.0010\n",
      "Epoch 15/200\n",
      "30/30 [==============================] - ETA: 0s - loss: 1.7478 - accuracy: 0.8863 - f1_metric: 0.8862\n",
      "Epoch 00015: val_f1_metric did not improve from 0.88383\n",
      "30/30 [==============================] - 2s 64ms/step - loss: 1.7478 - accuracy: 0.8863 - f1_metric: 0.8862 - val_loss: 0.4715 - val_accuracy: 0.8863 - val_f1_metric: 0.8838 - lr: 0.0010\n",
      "Epoch 16/200\n",
      "29/30 [============================>.] - ETA: 0s - loss: 1.7294 - accuracy: 0.8847 - f1_metric: 0.8844\n",
      "Epoch 00016: val_f1_metric did not improve from 0.88383\n",
      "30/30 [==============================] - 2s 66ms/step - loss: 1.7229 - accuracy: 0.8863 - f1_metric: 0.8867 - val_loss: 0.4859 - val_accuracy: 0.8863 - val_f1_metric: 0.8838 - lr: 0.0010\n",
      "Epoch 17/200\n",
      "29/30 [============================>.] - ETA: 0s - loss: 1.7010 - accuracy: 0.8852 - f1_metric: 0.8852\n",
      "Epoch 00017: val_f1_metric improved from 0.88383 to 0.88466, saving model to ./best_model_keras\n",
      "INFO:tensorflow:Assets written to: ./best_model_keras/assets\n",
      "30/30 [==============================] - 4s 123ms/step - loss: 1.6915 - accuracy: 0.8863 - f1_metric: 0.8867 - val_loss: 0.4776 - val_accuracy: 0.8863 - val_f1_metric: 0.8847 - lr: 0.0010\n",
      "Epoch 18/200\n",
      "30/30 [==============================] - ETA: 0s - loss: 1.7059 - accuracy: 0.8863 - f1_metric: 0.8858\n",
      "Epoch 00018: val_f1_metric did not improve from 0.88466\n",
      "30/30 [==============================] - 2s 72ms/step - loss: 1.7059 - accuracy: 0.8863 - f1_metric: 0.8858 - val_loss: 0.5004 - val_accuracy: 0.8863 - val_f1_metric: 0.8838 - lr: 0.0010\n",
      "Epoch 19/200\n",
      "29/30 [============================>.] - ETA: 0s - loss: 1.7162 - accuracy: 0.8863 - f1_metric: 0.8863\n",
      "Epoch 00019: val_f1_metric improved from 0.88466 to 0.88546, saving model to ./best_model_keras\n",
      "INFO:tensorflow:Assets written to: ./best_model_keras/assets\n",
      "30/30 [==============================] - 5s 154ms/step - loss: 1.7143 - accuracy: 0.8868 - f1_metric: 0.8870 - val_loss: 0.4800 - val_accuracy: 0.8884 - val_f1_metric: 0.8855 - lr: 0.0010\n",
      "Epoch 20/200\n",
      "30/30 [==============================] - ETA: 0s - loss: 1.7018 - accuracy: 0.8857 - f1_metric: 0.8854\n",
      "Epoch 00020: val_f1_metric did not improve from 0.88546\n",
      "30/30 [==============================] - 2s 71ms/step - loss: 1.7018 - accuracy: 0.8857 - f1_metric: 0.8854 - val_loss: 0.4893 - val_accuracy: 0.8863 - val_f1_metric: 0.8838 - lr: 0.0010\n",
      "Epoch 21/200\n",
      "30/30 [==============================] - ETA: 0s - loss: 1.7019 - accuracy: 0.8868 - f1_metric: 0.8875\n",
      "Epoch 00021: val_f1_metric improved from 0.88546 to 0.88578, saving model to ./best_model_keras\n",
      "INFO:tensorflow:Assets written to: ./best_model_keras/assets\n",
      "30/30 [==============================] - 5s 179ms/step - loss: 1.7019 - accuracy: 0.8868 - f1_metric: 0.8875 - val_loss: 0.4879 - val_accuracy: 0.8884 - val_f1_metric: 0.8858 - lr: 0.0010\n",
      "Epoch 22/200\n",
      "29/30 [============================>.] - ETA: 0s - loss: 1.6772 - accuracy: 0.8869 - f1_metric: 0.8869\n",
      "Epoch 00022: val_f1_metric improved from 0.88578 to 0.88658, saving model to ./best_model_keras\n",
      "INFO:tensorflow:Assets written to: ./best_model_keras/assets\n",
      "30/30 [==============================] - 4s 150ms/step - loss: 1.6757 - accuracy: 0.8857 - f1_metric: 0.8852 - val_loss: 0.4737 - val_accuracy: 0.8884 - val_f1_metric: 0.8866 - lr: 0.0010\n",
      "Epoch 23/200\n"
     ]
    },
    {
     "name": "stdout",
     "output_type": "stream",
     "text": [
      "29/30 [============================>.] - ETA: 0s - loss: 1.6840 - accuracy: 0.8831 - f1_metric: 0.8831\n",
      "Epoch 00023: val_f1_metric did not improve from 0.88658\n",
      "30/30 [==============================] - 2s 59ms/step - loss: 1.6680 - accuracy: 0.8847 - f1_metric: 0.8854 - val_loss: 0.4775 - val_accuracy: 0.8884 - val_f1_metric: 0.8858 - lr: 0.0010\n",
      "Epoch 24/200\n",
      "29/30 [============================>.] - ETA: 0s - loss: 1.6506 - accuracy: 0.8874 - f1_metric: 0.8876\n",
      "Epoch 00024: val_f1_metric did not improve from 0.88658\n",
      "30/30 [==============================] - 2s 63ms/step - loss: 1.6782 - accuracy: 0.8868 - f1_metric: 0.8867 - val_loss: 0.5051 - val_accuracy: 0.8884 - val_f1_metric: 0.8858 - lr: 0.0010\n",
      "Epoch 25/200\n",
      "29/30 [============================>.] - ETA: 0s - loss: 1.6680 - accuracy: 0.8863 - f1_metric: 0.8868\n",
      "Epoch 00025: val_f1_metric did not improve from 0.88658\n",
      "30/30 [==============================] - 2s 61ms/step - loss: 1.6646 - accuracy: 0.8863 - f1_metric: 0.8867 - val_loss: 0.4751 - val_accuracy: 0.8884 - val_f1_metric: 0.8866 - lr: 0.0010\n",
      "Epoch 26/200\n",
      "29/30 [============================>.] - ETA: 0s - loss: 1.6471 - accuracy: 0.8863 - f1_metric: 0.8863\n",
      "Epoch 00026: val_f1_metric did not improve from 0.88658\n",
      "30/30 [==============================] - 2s 55ms/step - loss: 1.6512 - accuracy: 0.8852 - f1_metric: 0.8847 - val_loss: 0.4771 - val_accuracy: 0.8884 - val_f1_metric: 0.8858 - lr: 0.0010\n",
      "Epoch 27/200\n",
      "29/30 [============================>.] - ETA: 0s - loss: 1.6391 - accuracy: 0.8895 - f1_metric: 0.8895\n",
      "Epoch 00027: val_f1_metric did not improve from 0.88658\n",
      "30/30 [==============================] - 2s 63ms/step - loss: 1.6692 - accuracy: 0.8863 - f1_metric: 0.8850 - val_loss: 0.4871 - val_accuracy: 0.8884 - val_f1_metric: 0.8858 - lr: 0.0010\n",
      "Epoch 28/200\n",
      "29/30 [============================>.] - ETA: 0s - loss: 1.6559 - accuracy: 0.8890 - f1_metric: 0.8887\n",
      "Epoch 00028: val_f1_metric did not improve from 0.88658\n",
      "30/30 [==============================] - 2s 63ms/step - loss: 1.6803 - accuracy: 0.8863 - f1_metric: 0.8847 - val_loss: 0.4757 - val_accuracy: 0.8884 - val_f1_metric: 0.8858 - lr: 0.0010\n",
      "Epoch 29/200\n",
      "29/30 [============================>.] - ETA: 0s - loss: 1.6320 - accuracy: 0.8885 - f1_metric: 0.8883\n",
      "Epoch 00029: val_f1_metric did not improve from 0.88658\n",
      "30/30 [==============================] - 2s 58ms/step - loss: 1.6410 - accuracy: 0.8868 - f1_metric: 0.8858 - val_loss: 0.4948 - val_accuracy: 0.8884 - val_f1_metric: 0.8858 - lr: 0.0010\n",
      "Epoch 30/200\n",
      "29/30 [============================>.] - ETA: 0s - loss: 1.6370 - accuracy: 0.8842 - f1_metric: 0.8849\n",
      "Epoch 00030: val_f1_metric did not improve from 0.88658\n",
      "30/30 [==============================] - 2s 63ms/step - loss: 1.6237 - accuracy: 0.8852 - f1_metric: 0.8864 - val_loss: 0.4944 - val_accuracy: 0.8884 - val_f1_metric: 0.8858 - lr: 0.0010\n",
      "Epoch 31/200\n",
      "29/30 [============================>.] - ETA: 0s - loss: 1.6174 - accuracy: 0.8885 - f1_metric: 0.8892\n",
      "Epoch 00031: val_f1_metric did not improve from 0.88658\n",
      "\n",
      "Epoch 00031: ReduceLROnPlateau reducing learning rate to 0.0001.\n",
      "30/30 [==============================] - 2s 63ms/step - loss: 1.6183 - accuracy: 0.8878 - f1_metric: 0.8882 - val_loss: 0.4736 - val_accuracy: 0.8884 - val_f1_metric: 0.8858 - lr: 0.0010\n",
      "Epoch 32/200\n",
      "29/30 [============================>.] - ETA: 0s - loss: 1.5913 - accuracy: 0.8863 - f1_metric: 0.8862\n",
      "Epoch 00032: val_f1_metric did not improve from 0.88658\n",
      "30/30 [==============================] - 2s 60ms/step - loss: 1.6099 - accuracy: 0.8857 - f1_metric: 0.8853 - val_loss: 0.4783 - val_accuracy: 0.8884 - val_f1_metric: 0.8858 - lr: 1.0000e-04\n",
      "Epoch 33/200\n",
      "29/30 [============================>.] - ETA: 0s - loss: 1.5483 - accuracy: 0.8869 - f1_metric: 0.8865\n",
      "Epoch 00033: val_f1_metric did not improve from 0.88658\n",
      "30/30 [==============================] - 2s 67ms/step - loss: 1.5602 - accuracy: 0.8857 - f1_metric: 0.8848 - val_loss: 0.4774 - val_accuracy: 0.8884 - val_f1_metric: 0.8858 - lr: 1.0000e-04\n",
      "Epoch 34/200\n",
      "29/30 [============================>.] - ETA: 0s - loss: 1.5487 - accuracy: 0.8874 - f1_metric: 0.8874 ETA: 1s - loss: 1.6992 \n",
      "Epoch 00034: val_f1_metric did not improve from 0.88658\n",
      "30/30 [==============================] - 2s 61ms/step - loss: 1.5592 - accuracy: 0.8863 - f1_metric: 0.8857 - val_loss: 0.4789 - val_accuracy: 0.8884 - val_f1_metric: 0.8858 - lr: 1.0000e-04\n",
      "Epoch 35/200\n",
      "29/30 [============================>.] - ETA: 0s - loss: 1.5475 - accuracy: 0.8836 - f1_metric: 0.8837\n",
      "Epoch 00035: val_f1_metric did not improve from 0.88658\n",
      "30/30 [==============================] - 2s 56ms/step - loss: 1.5262 - accuracy: 0.8857 - f1_metric: 0.8868 - val_loss: 0.4763 - val_accuracy: 0.8884 - val_f1_metric: 0.8858 - lr: 1.0000e-04\n",
      "Epoch 36/200\n",
      "29/30 [============================>.] - ETA: 0s - loss: 1.5402 - accuracy: 0.8869 - f1_metric: 0.8862\n",
      "Epoch 00036: val_f1_metric did not improve from 0.88658\n",
      "30/30 [==============================] - 2s 62ms/step - loss: 1.5469 - accuracy: 0.8863 - f1_metric: 0.8854 - val_loss: 0.4787 - val_accuracy: 0.8884 - val_f1_metric: 0.8858 - lr: 1.0000e-04\n",
      "Epoch 37/200\n",
      "29/30 [============================>.] - ETA: 0s - loss: 1.5115 - accuracy: 0.8852 - f1_metric: 0.8857\n",
      "Epoch 00037: val_f1_metric did not improve from 0.88658\n",
      "30/30 [==============================] - 2s 54ms/step - loss: 1.4984 - accuracy: 0.8863 - f1_metric: 0.8872 - val_loss: 0.4799 - val_accuracy: 0.8884 - val_f1_metric: 0.8858 - lr: 1.0000e-04\n",
      "Epoch 38/200\n",
      "30/30 [==============================] - ETA: 0s - loss: 1.4899 - accuracy: 0.8868 - f1_metric: 0.8872\n",
      "Epoch 00038: val_f1_metric did not improve from 0.88658\n",
      "30/30 [==============================] - 2s 63ms/step - loss: 1.4899 - accuracy: 0.8868 - f1_metric: 0.8872 - val_loss: 0.4806 - val_accuracy: 0.8884 - val_f1_metric: 0.8858 - lr: 1.0000e-04\n",
      "Epoch 39/200\n",
      "29/30 [============================>.] - ETA: 0s - loss: 1.5513 - accuracy: 0.8885 - f1_metric: 0.8882\n",
      "Epoch 00039: val_f1_metric did not improve from 0.88658\n",
      "30/30 [==============================] - 2s 57ms/step - loss: 1.5411 - accuracy: 0.8878 - f1_metric: 0.8873 - val_loss: 0.4804 - val_accuracy: 0.8884 - val_f1_metric: 0.8858 - lr: 1.0000e-04\n",
      "Epoch 40/200\n",
      "29/30 [============================>.] - ETA: 0s - loss: 1.5024 - accuracy: 0.8874 - f1_metric: 0.8877\n",
      "Epoch 00040: val_f1_metric did not improve from 0.88658\n",
      "30/30 [==============================] - 2s 53ms/step - loss: 1.4982 - accuracy: 0.8878 - f1_metric: 0.8883 - val_loss: 0.4816 - val_accuracy: 0.8884 - val_f1_metric: 0.8858 - lr: 1.0000e-04\n",
      "Epoch 41/200\n",
      "29/30 [============================>.] - ETA: 0s - loss: 1.5006 - accuracy: 0.8869 - f1_metric: 0.8868\n",
      "Epoch 00041: val_f1_metric did not improve from 0.88658\n",
      "30/30 [==============================] - 2s 57ms/step - loss: 1.5012 - accuracy: 0.8868 - f1_metric: 0.8867 - val_loss: 0.4811 - val_accuracy: 0.8884 - val_f1_metric: 0.8858 - lr: 1.0000e-04\n",
      "Epoch 42/200\n",
      "30/30 [==============================] - ETA: 0s - loss: 1.5368 - accuracy: 0.8863 - f1_metric: 0.8862\n",
      "Epoch 00042: val_f1_metric did not improve from 0.88658\n",
      "30/30 [==============================] - 2s 71ms/step - loss: 1.5368 - accuracy: 0.8863 - f1_metric: 0.8862 - val_loss: 0.4820 - val_accuracy: 0.8884 - val_f1_metric: 0.8858 - lr: 1.0000e-04\n",
      "Epoch 43/200\n",
      "29/30 [============================>.] - ETA: 0s - loss: 1.4976 - accuracy: 0.8869 - f1_metric: 0.8867\n",
      "Epoch 00043: val_f1_metric did not improve from 0.88658\n",
      "30/30 [==============================] - 2s 58ms/step - loss: 1.5102 - accuracy: 0.8863 - f1_metric: 0.8858 - val_loss: 0.4825 - val_accuracy: 0.8884 - val_f1_metric: 0.8858 - lr: 1.0000e-04\n",
      "Epoch 44/200\n",
      "29/30 [============================>.] - ETA: 0s - loss: 1.5360 - accuracy: 0.8831 - f1_metric: 0.8831\n",
      "Epoch 00044: val_f1_metric did not improve from 0.88658\n",
      "30/30 [==============================] - 2s 61ms/step - loss: 1.5153 - accuracy: 0.8841 - f1_metric: 0.8847 - val_loss: 0.4823 - val_accuracy: 0.8884 - val_f1_metric: 0.8858 - lr: 1.0000e-04\n",
      "Epoch 45/200\n",
      "29/30 [============================>.] - ETA: 0s - loss: 1.5217 - accuracy: 0.8858 - f1_metric: 0.8857\n",
      "Epoch 00045: val_f1_metric did not improve from 0.88658\n"
     ]
    },
    {
     "name": "stdout",
     "output_type": "stream",
     "text": [
      "30/30 [==============================] - 2s 74ms/step - loss: 1.5069 - accuracy: 0.8863 - f1_metric: 0.8864 - val_loss: 0.4806 - val_accuracy: 0.8884 - val_f1_metric: 0.8858 - lr: 1.0000e-04\n",
      "Epoch 46/200\n",
      "29/30 [============================>.] - ETA: 0s - loss: 1.4820 - accuracy: 0.8874 - f1_metric: 0.8878\n",
      "Epoch 00046: val_f1_metric did not improve from 0.88658\n",
      "30/30 [==============================] - 2s 61ms/step - loss: 1.4713 - accuracy: 0.8878 - f1_metric: 0.8885 - val_loss: 0.4826 - val_accuracy: 0.8884 - val_f1_metric: 0.8858 - lr: 1.0000e-04\n",
      "Epoch 47/200\n",
      "29/30 [============================>.] - ETA: 0s - loss: 1.4494 - accuracy: 0.8847 - f1_metric: 0.8849\n",
      "Epoch 00047: val_f1_metric did not improve from 0.88658\n",
      "30/30 [==============================] - 2s 56ms/step - loss: 1.4592 - accuracy: 0.8852 - f1_metric: 0.8857 - val_loss: 0.4811 - val_accuracy: 0.8884 - val_f1_metric: 0.8858 - lr: 1.0000e-04\n",
      "Epoch 48/200\n",
      "30/30 [==============================] - ETA: 0s - loss: 1.4600 - accuracy: 0.8857 - f1_metric: 0.8862\n",
      "Epoch 00048: val_f1_metric did not improve from 0.88658\n",
      "30/30 [==============================] - 2s 66ms/step - loss: 1.4600 - accuracy: 0.8857 - f1_metric: 0.8862 - val_loss: 0.4843 - val_accuracy: 0.8884 - val_f1_metric: 0.8858 - lr: 1.0000e-04\n",
      "Epoch 49/200\n",
      "29/30 [============================>.] - ETA: 0s - loss: 1.4853 - accuracy: 0.8858 - f1_metric: 0.8857\n",
      "Epoch 00049: val_f1_metric did not improve from 0.88658\n",
      "30/30 [==============================] - 2s 60ms/step - loss: 1.4872 - accuracy: 0.8863 - f1_metric: 0.8864 - val_loss: 0.4852 - val_accuracy: 0.8884 - val_f1_metric: 0.8858 - lr: 1.0000e-04\n",
      "Epoch 50/200\n",
      "29/30 [============================>.] - ETA: 0s - loss: 1.4681 - accuracy: 0.8852 - f1_metric: 0.8855\n",
      "Epoch 00050: val_f1_metric did not improve from 0.88658\n",
      "30/30 [==============================] - 2s 57ms/step - loss: 1.4510 - accuracy: 0.8868 - f1_metric: 0.8877 - val_loss: 0.4838 - val_accuracy: 0.8884 - val_f1_metric: 0.8858 - lr: 1.0000e-04\n",
      "Epoch 51/200\n",
      "29/30 [============================>.] - ETA: 0s - loss: 1.4629 - accuracy: 0.8863 - f1_metric: 0.8857\n",
      "Epoch 00051: val_f1_metric did not improve from 0.88658\n",
      "30/30 [==============================] - 2s 65ms/step - loss: 1.4582 - accuracy: 0.8868 - f1_metric: 0.8864 - val_loss: 0.4843 - val_accuracy: 0.8884 - val_f1_metric: 0.8858 - lr: 1.0000e-04\n",
      "Epoch 52/200\n",
      "29/30 [============================>.] - ETA: 0s - loss: 1.4571 - accuracy: 0.8879 - f1_metric: 0.8876\n",
      "Epoch 00052: val_f1_metric did not improve from 0.88658\n",
      "30/30 [==============================] - 2s 68ms/step - loss: 1.4482 - accuracy: 0.8884 - f1_metric: 0.8883 - val_loss: 0.4835 - val_accuracy: 0.8884 - val_f1_metric: 0.8858 - lr: 1.0000e-04\n",
      "Epoch 53/200\n",
      "30/30 [==============================] - ETA: 0s - loss: 1.4647 - accuracy: 0.8878 - f1_metric: 0.8877\n",
      "Epoch 00053: val_f1_metric did not improve from 0.88658\n",
      "30/30 [==============================] - 2s 70ms/step - loss: 1.4647 - accuracy: 0.8878 - f1_metric: 0.8877 - val_loss: 0.4815 - val_accuracy: 0.8884 - val_f1_metric: 0.8858 - lr: 1.0000e-04\n",
      "Epoch 54/200\n",
      "29/30 [============================>.] - ETA: 0s - loss: 1.4760 - accuracy: 0.8874 - f1_metric: 0.8879\n",
      "Epoch 00054: val_f1_metric did not improve from 0.88658\n",
      "30/30 [==============================] - 2s 77ms/step - loss: 1.4666 - accuracy: 0.8889 - f1_metric: 0.8901 - val_loss: 0.4772 - val_accuracy: 0.8884 - val_f1_metric: 0.8858 - lr: 1.0000e-04\n",
      "Epoch 55/200\n",
      "30/30 [==============================] - ETA: 0s - loss: 1.4892 - accuracy: 0.8863 - f1_metric: 0.8869\n",
      "Epoch 00055: val_f1_metric did not improve from 0.88658\n",
      "30/30 [==============================] - 2s 71ms/step - loss: 1.4892 - accuracy: 0.8863 - f1_metric: 0.8869 - val_loss: 0.4796 - val_accuracy: 0.8884 - val_f1_metric: 0.8858 - lr: 1.0000e-04\n",
      "Epoch 56/200\n",
      "29/30 [============================>.] - ETA: 0s - loss: 1.5084 - accuracy: 0.8858 - f1_metric: 0.8865\n",
      "Epoch 00056: val_f1_metric did not improve from 0.88658\n",
      "30/30 [==============================] - 2s 61ms/step - loss: 1.4985 - accuracy: 0.8873 - f1_metric: 0.8887 - val_loss: 0.4818 - val_accuracy: 0.8884 - val_f1_metric: 0.8858 - lr: 1.0000e-04\n",
      "Epoch 57/200\n",
      "29/30 [============================>.] - ETA: 0s - loss: 1.4921 - accuracy: 0.8890 - f1_metric: 0.8892\n",
      "Epoch 00057: val_f1_metric did not improve from 0.88658\n",
      "30/30 [==============================] - 2s 62ms/step - loss: 1.4984 - accuracy: 0.8884 - f1_metric: 0.8882 - val_loss: 0.4828 - val_accuracy: 0.8884 - val_f1_metric: 0.8858 - lr: 1.0000e-04\n",
      "Epoch 58/200\n",
      "30/30 [==============================] - ETA: 0s - loss: 1.4610 - accuracy: 0.8868 - f1_metric: 0.8869\n",
      "Epoch 00058: val_f1_metric did not improve from 0.88658\n",
      "30/30 [==============================] - 2s 74ms/step - loss: 1.4610 - accuracy: 0.8868 - f1_metric: 0.8869 - val_loss: 0.4844 - val_accuracy: 0.8884 - val_f1_metric: 0.8858 - lr: 1.0000e-04\n",
      "Epoch 59/200\n",
      "30/30 [==============================] - ETA: 0s - loss: 1.4527 - accuracy: 0.8878 - f1_metric: 0.8880\n",
      "Epoch 00059: val_f1_metric did not improve from 0.88658\n",
      "30/30 [==============================] - 2s 69ms/step - loss: 1.4527 - accuracy: 0.8878 - f1_metric: 0.8880 - val_loss: 0.4872 - val_accuracy: 0.8884 - val_f1_metric: 0.8858 - lr: 1.0000e-04\n",
      "Epoch 60/200\n",
      "30/30 [==============================] - ETA: 0s - loss: 1.4380 - accuracy: 0.8873 - f1_metric: 0.8870\n",
      "Epoch 00060: val_f1_metric did not improve from 0.88658\n",
      "30/30 [==============================] - 2s 59ms/step - loss: 1.4380 - accuracy: 0.8873 - f1_metric: 0.8870 - val_loss: 0.4836 - val_accuracy: 0.8884 - val_f1_metric: 0.8858 - lr: 1.0000e-04\n",
      "Epoch 61/200\n",
      "29/30 [============================>.] - ETA: 0s - loss: 1.4308 - accuracy: 0.8890 - f1_metric: 0.8890\n",
      "Epoch 00061: val_f1_metric did not improve from 0.88658\n",
      "30/30 [==============================] - 2s 56ms/step - loss: 1.4445 - accuracy: 0.8873 - f1_metric: 0.8865 - val_loss: 0.4861 - val_accuracy: 0.8884 - val_f1_metric: 0.8858 - lr: 1.0000e-04\n",
      "Epoch 62/200\n",
      "29/30 [============================>.] - ETA: 0s - loss: 1.4725 - accuracy: 0.8885 - f1_metric: 0.8882\n",
      "Epoch 00062: val_f1_metric did not improve from 0.88658\n",
      "30/30 [==============================] - 2s 55ms/step - loss: 1.4693 - accuracy: 0.8873 - f1_metric: 0.8865 - val_loss: 0.4819 - val_accuracy: 0.8884 - val_f1_metric: 0.8858 - lr: 1.0000e-04\n",
      "Epoch 63/200\n",
      "30/30 [==============================] - ETA: 0s - loss: 1.4789 - accuracy: 0.8868 - f1_metric: 0.8878\n",
      "Epoch 00063: val_f1_metric did not improve from 0.88658\n",
      "30/30 [==============================] - 2s 55ms/step - loss: 1.4789 - accuracy: 0.8868 - f1_metric: 0.8878 - val_loss: 0.4848 - val_accuracy: 0.8884 - val_f1_metric: 0.8858 - lr: 1.0000e-04\n",
      "Epoch 64/200\n",
      "29/30 [============================>.] - ETA: 0s - loss: 1.4675 - accuracy: 0.8869 - f1_metric: 0.8870\n",
      "Epoch 00064: val_f1_metric did not improve from 0.88658\n",
      "30/30 [==============================] - 2s 57ms/step - loss: 1.4606 - accuracy: 0.8868 - f1_metric: 0.8869 - val_loss: 0.4855 - val_accuracy: 0.8884 - val_f1_metric: 0.8858 - lr: 1.0000e-04\n",
      "Epoch 65/200\n",
      "29/30 [============================>.] - ETA: 0s - loss: 1.4451 - accuracy: 0.8890 - f1_metric: 0.8887\n",
      "Epoch 00065: val_f1_metric did not improve from 0.88658\n",
      "30/30 [==============================] - 2s 53ms/step - loss: 1.4625 - accuracy: 0.8878 - f1_metric: 0.8870 - val_loss: 0.4850 - val_accuracy: 0.8884 - val_f1_metric: 0.8858 - lr: 1.0000e-04\n",
      "Epoch 66/200\n",
      "30/30 [==============================] - ETA: 0s - loss: 1.4421 - accuracy: 0.8899 - f1_metric: 0.8904\n",
      "Epoch 00066: val_f1_metric did not improve from 0.88658\n",
      "30/30 [==============================] - 2s 50ms/step - loss: 1.4421 - accuracy: 0.8899 - f1_metric: 0.8904 - val_loss: 0.4838 - val_accuracy: 0.8884 - val_f1_metric: 0.8858 - lr: 1.0000e-04\n",
      "Epoch 67/200\n",
      "29/30 [============================>.] - ETA: 0s - loss: 1.4223 - accuracy: 0.8874 - f1_metric: 0.8876\n",
      "Epoch 00067: val_f1_metric did not improve from 0.88658\n",
      "30/30 [==============================] - 2s 61ms/step - loss: 1.4251 - accuracy: 0.8873 - f1_metric: 0.8875 - val_loss: 0.4813 - val_accuracy: 0.8884 - val_f1_metric: 0.8858 - lr: 1.0000e-04\n",
      "Epoch 68/200\n"
     ]
    },
    {
     "name": "stdout",
     "output_type": "stream",
     "text": [
      "29/30 [============================>.] - ETA: 0s - loss: 1.4029 - accuracy: 0.8858 - f1_metric: 0.8858\n",
      "Epoch 00068: val_f1_metric did not improve from 0.88658\n",
      "30/30 [==============================] - 2s 54ms/step - loss: 1.4042 - accuracy: 0.8873 - f1_metric: 0.8880 - val_loss: 0.4831 - val_accuracy: 0.8863 - val_f1_metric: 0.8836 - lr: 1.0000e-04\n",
      "Epoch 69/200\n",
      "29/30 [============================>.] - ETA: 0s - loss: 1.4258 - accuracy: 0.8858 - f1_metric: 0.8857\n",
      "Epoch 00069: val_f1_metric did not improve from 0.88658\n",
      "30/30 [==============================] - 1s 49ms/step - loss: 1.4230 - accuracy: 0.8868 - f1_metric: 0.8872 - val_loss: 0.4840 - val_accuracy: 0.8863 - val_f1_metric: 0.8838 - lr: 1.0000e-04\n",
      "Epoch 70/200\n",
      "29/30 [============================>.] - ETA: 0s - loss: 1.4433 - accuracy: 0.8869 - f1_metric: 0.8874 ETA: 1s - loss: 1.2766 \n",
      "Epoch 00070: val_f1_metric did not improve from 0.88658\n",
      "30/30 [==============================] - 2s 59ms/step - loss: 1.4344 - accuracy: 0.8873 - f1_metric: 0.8880 - val_loss: 0.4829 - val_accuracy: 0.8821 - val_f1_metric: 0.8799 - lr: 1.0000e-04\n",
      "Epoch 71/200\n",
      "30/30 [==============================] - ETA: 0s - loss: 1.4202 - accuracy: 0.8884 - f1_metric: 0.8888\n",
      "Epoch 00071: val_f1_metric did not improve from 0.88658\n",
      "30/30 [==============================] - 2s 51ms/step - loss: 1.4202 - accuracy: 0.8884 - f1_metric: 0.8888 - val_loss: 0.4810 - val_accuracy: 0.8842 - val_f1_metric: 0.8817 - lr: 1.0000e-04\n",
      "Epoch 72/200\n",
      "30/30 [==============================] - ETA: 0s - loss: 1.4326 - accuracy: 0.8878 - f1_metric: 0.8874\n",
      "Epoch 00072: val_f1_metric did not improve from 0.88658\n",
      "30/30 [==============================] - 2s 51ms/step - loss: 1.4326 - accuracy: 0.8878 - f1_metric: 0.8874 - val_loss: 0.4832 - val_accuracy: 0.8863 - val_f1_metric: 0.8828 - lr: 1.0000e-04\n",
      "Epoch 73/200\n",
      "29/30 [============================>.] - ETA: 0s - loss: 1.4185 - accuracy: 0.8879 - f1_metric: 0.8879\n",
      "Epoch 00073: val_f1_metric did not improve from 0.88658\n",
      "30/30 [==============================] - 2s 55ms/step - loss: 1.4276 - accuracy: 0.8873 - f1_metric: 0.8869 - val_loss: 0.4796 - val_accuracy: 0.8863 - val_f1_metric: 0.8836 - lr: 1.0000e-04\n",
      "Epoch 74/200\n",
      "29/30 [============================>.] - ETA: 0s - loss: 1.3960 - accuracy: 0.8874 - f1_metric: 0.8874\n",
      "Epoch 00074: val_f1_metric did not improve from 0.88658\n",
      "30/30 [==============================] - 2s 55ms/step - loss: 1.4028 - accuracy: 0.8873 - f1_metric: 0.8873 - val_loss: 0.4812 - val_accuracy: 0.8842 - val_f1_metric: 0.8828 - lr: 1.0000e-04\n",
      "Epoch 75/200\n",
      "29/30 [============================>.] - ETA: 0s - loss: 1.4599 - accuracy: 0.8874 - f1_metric: 0.8881\n",
      "Epoch 00075: val_f1_metric did not improve from 0.88658\n",
      "30/30 [==============================] - 2s 52ms/step - loss: 1.4386 - accuracy: 0.8889 - f1_metric: 0.8903 - val_loss: 0.4854 - val_accuracy: 0.8863 - val_f1_metric: 0.8836 - lr: 1.0000e-04\n",
      "Epoch 76/200\n",
      "29/30 [============================>.] - ETA: 0s - loss: 1.4062 - accuracy: 0.8874 - f1_metric: 0.8880\n",
      "Epoch 00076: val_f1_metric did not improve from 0.88658\n",
      "30/30 [==============================] - 2s 56ms/step - loss: 1.4105 - accuracy: 0.8878 - f1_metric: 0.8887 - val_loss: 0.4853 - val_accuracy: 0.8884 - val_f1_metric: 0.8847 - lr: 1.0000e-04\n",
      "Epoch 77/200\n",
      "30/30 [==============================] - ETA: 0s - loss: 1.4201 - accuracy: 0.8884 - f1_metric: 0.8874\n",
      "Epoch 00077: val_f1_metric did not improve from 0.88658\n",
      "30/30 [==============================] - 2s 61ms/step - loss: 1.4201 - accuracy: 0.8884 - f1_metric: 0.8874 - val_loss: 0.4851 - val_accuracy: 0.8884 - val_f1_metric: 0.8847 - lr: 1.0000e-04\n",
      "Epoch 78/200\n",
      "29/30 [============================>.] - ETA: 0s - loss: 1.4045 - accuracy: 0.8890 - f1_metric: 0.8884\n",
      "Epoch 00078: val_f1_metric did not improve from 0.88658\n",
      "30/30 [==============================] - 2s 64ms/step - loss: 1.3923 - accuracy: 0.8894 - f1_metric: 0.8890 - val_loss: 0.4880 - val_accuracy: 0.8821 - val_f1_metric: 0.8808 - lr: 1.0000e-04\n",
      "Epoch 79/200\n",
      "29/30 [============================>.] - ETA: 0s - loss: 1.4508 - accuracy: 0.8890 - f1_metric: 0.8897\n",
      "Epoch 00079: val_f1_metric did not improve from 0.88658\n",
      "30/30 [==============================] - 2s 65ms/step - loss: 1.4447 - accuracy: 0.8889 - f1_metric: 0.8895 - val_loss: 0.4871 - val_accuracy: 0.8821 - val_f1_metric: 0.8808 - lr: 1.0000e-04\n",
      "Epoch 80/200\n",
      "29/30 [============================>.] - ETA: 0s - loss: 1.4225 - accuracy: 0.8869 - f1_metric: 0.8870\n",
      "Epoch 00080: val_f1_metric did not improve from 0.88658\n",
      "30/30 [==============================] - 2s 57ms/step - loss: 1.4226 - accuracy: 0.8868 - f1_metric: 0.8869 - val_loss: 0.4833 - val_accuracy: 0.8842 - val_f1_metric: 0.8808 - lr: 1.0000e-04\n",
      "Epoch 81/200\n",
      "30/30 [==============================] - ETA: 0s - loss: 1.4276 - accuracy: 0.8894 - f1_metric: 0.8905\n",
      "Epoch 00081: val_f1_metric did not improve from 0.88658\n",
      "30/30 [==============================] - 2s 59ms/step - loss: 1.4276 - accuracy: 0.8894 - f1_metric: 0.8905 - val_loss: 0.4833 - val_accuracy: 0.8842 - val_f1_metric: 0.8836 - lr: 1.0000e-04\n",
      "Epoch 82/200\n",
      "29/30 [============================>.] - ETA: 0s - loss: 1.3498 - accuracy: 0.8895 - f1_metric: 0.8897\n",
      "Epoch 00082: val_f1_metric did not improve from 0.88658\n",
      "30/30 [==============================] - 2s 61ms/step - loss: 1.3758 - accuracy: 0.8884 - f1_metric: 0.8880 - val_loss: 0.4844 - val_accuracy: 0.8821 - val_f1_metric: 0.8799 - lr: 1.0000e-04\n",
      "Epoch 83/200\n",
      "29/30 [============================>.] - ETA: 0s - loss: 1.4199 - accuracy: 0.8879 - f1_metric: 0.8887\n",
      "Epoch 00083: val_f1_metric did not improve from 0.88658\n",
      "30/30 [==============================] - 2s 51ms/step - loss: 1.4181 - accuracy: 0.8884 - f1_metric: 0.8893 - val_loss: 0.4867 - val_accuracy: 0.8821 - val_f1_metric: 0.8799 - lr: 1.0000e-04\n",
      "Epoch 84/200\n",
      "29/30 [============================>.] - ETA: 0s - loss: 1.3998 - accuracy: 0.8901 - f1_metric: 0.8910\n",
      "Epoch 00084: val_f1_metric did not improve from 0.88658\n",
      "30/30 [==============================] - 2s 56ms/step - loss: 1.3936 - accuracy: 0.8894 - f1_metric: 0.8900 - val_loss: 0.4888 - val_accuracy: 0.8842 - val_f1_metric: 0.8808 - lr: 1.0000e-04\n",
      "Epoch 85/200\n",
      "29/30 [============================>.] - ETA: 0s - loss: 1.3979 - accuracy: 0.8874 - f1_metric: 0.8879\n",
      "Epoch 00085: val_f1_metric did not improve from 0.88658\n",
      "30/30 [==============================] - 2s 58ms/step - loss: 1.3913 - accuracy: 0.8884 - f1_metric: 0.8893 - val_loss: 0.4862 - val_accuracy: 0.8821 - val_f1_metric: 0.8772 - lr: 1.0000e-04\n",
      "Epoch 86/200\n",
      "30/30 [==============================] - ETA: 0s - loss: 1.3775 - accuracy: 0.8905 - f1_metric: 0.8908\n",
      "Epoch 00086: val_f1_metric did not improve from 0.88658\n",
      "30/30 [==============================] - 2s 52ms/step - loss: 1.3775 - accuracy: 0.8905 - f1_metric: 0.8908 - val_loss: 0.4880 - val_accuracy: 0.8842 - val_f1_metric: 0.8808 - lr: 1.0000e-04\n",
      "Epoch 87/200\n",
      "29/30 [============================>.] - ETA: 0s - loss: 1.3609 - accuracy: 0.8869 - f1_metric: 0.8871\n",
      "Epoch 00087: val_f1_metric did not improve from 0.88658\n",
      "30/30 [==============================] - 2s 55ms/step - loss: 1.3646 - accuracy: 0.8873 - f1_metric: 0.8878 - val_loss: 0.4867 - val_accuracy: 0.8821 - val_f1_metric: 0.8799 - lr: 1.0000e-04\n",
      "Epoch 88/200\n",
      "29/30 [============================>.] - ETA: 0s - loss: 1.4125 - accuracy: 0.8890 - f1_metric: 0.8900\n",
      "Epoch 00088: val_f1_metric did not improve from 0.88658\n",
      "30/30 [==============================] - 2s 61ms/step - loss: 1.4030 - accuracy: 0.8894 - f1_metric: 0.8905 - val_loss: 0.4854 - val_accuracy: 0.8821 - val_f1_metric: 0.8808 - lr: 1.0000e-04\n",
      "Epoch 89/200\n",
      "29/30 [============================>.] - ETA: 0s - loss: 1.3842 - accuracy: 0.8895 - f1_metric: 0.8895\n",
      "Epoch 00089: val_f1_metric did not improve from 0.88658\n",
      "30/30 [==============================] - 2s 53ms/step - loss: 1.3895 - accuracy: 0.8889 - f1_metric: 0.8886 - val_loss: 0.4861 - val_accuracy: 0.8821 - val_f1_metric: 0.8808 - lr: 1.0000e-04\n",
      "Epoch 90/200\n",
      "29/30 [============================>.] - ETA: 0s - loss: 1.3685 - accuracy: 0.8879 - f1_metric: 0.8881\n",
      "Epoch 00090: val_f1_metric did not improve from 0.88658\n",
      "30/30 [==============================] - 2s 57ms/step - loss: 1.3627 - accuracy: 0.8894 - f1_metric: 0.8903 - val_loss: 0.4887 - val_accuracy: 0.8821 - val_f1_metric: 0.8799 - lr: 1.0000e-04\n"
     ]
    },
    {
     "name": "stdout",
     "output_type": "stream",
     "text": [
      "Epoch 91/200\n",
      "29/30 [============================>.] - ETA: 0s - loss: 1.3697 - accuracy: 0.8922 - f1_metric: 0.8927\n",
      "Epoch 00091: val_f1_metric did not improve from 0.88658\n",
      "30/30 [==============================] - 2s 62ms/step - loss: 1.3906 - accuracy: 0.8905 - f1_metric: 0.8900 - val_loss: 0.4886 - val_accuracy: 0.8821 - val_f1_metric: 0.8799 - lr: 1.0000e-04\n",
      "Epoch 92/200\n",
      "29/30 [============================>.] - ETA: 0s - loss: 1.4055 - accuracy: 0.8869 - f1_metric: 0.8873\n",
      "Epoch 00092: val_f1_metric did not improve from 0.88658\n",
      "30/30 [==============================] - 2s 50ms/step - loss: 1.3962 - accuracy: 0.8868 - f1_metric: 0.8872 - val_loss: 0.4895 - val_accuracy: 0.8821 - val_f1_metric: 0.8799 - lr: 1.0000e-04\n",
      "Epoch 93/200\n",
      "29/30 [============================>.] - ETA: 0s - loss: 1.3874 - accuracy: 0.8885 - f1_metric: 0.8892\n",
      "Epoch 00093: val_f1_metric did not improve from 0.88658\n",
      "30/30 [==============================] - 2s 55ms/step - loss: 1.3781 - accuracy: 0.8899 - f1_metric: 0.8913 - val_loss: 0.4853 - val_accuracy: 0.8821 - val_f1_metric: 0.8808 - lr: 1.0000e-04\n",
      "Epoch 94/200\n",
      "29/30 [============================>.] - ETA: 0s - loss: 1.3720 - accuracy: 0.8885 - f1_metric: 0.8889\n",
      "Epoch 00094: val_f1_metric did not improve from 0.88658\n",
      "30/30 [==============================] - 2s 58ms/step - loss: 1.3695 - accuracy: 0.8884 - f1_metric: 0.8887 - val_loss: 0.4892 - val_accuracy: 0.8821 - val_f1_metric: 0.8799 - lr: 1.0000e-04\n",
      "Epoch 95/200\n",
      "29/30 [============================>.] - ETA: 0s - loss: 1.3744 - accuracy: 0.8863 - f1_metric: 0.8859\n",
      "Epoch 00095: val_f1_metric did not improve from 0.88658\n",
      "30/30 [==============================] - 2s 62ms/step - loss: 1.3670 - accuracy: 0.8868 - f1_metric: 0.8866 - val_loss: 0.4878 - val_accuracy: 0.8821 - val_f1_metric: 0.8799 - lr: 1.0000e-04\n",
      "Epoch 96/200\n",
      "29/30 [============================>.] - ETA: 0s - loss: 1.3225 - accuracy: 0.8917 - f1_metric: 0.8915\n",
      "Epoch 00096: val_f1_metric did not improve from 0.88658\n",
      "30/30 [==============================] - 2s 58ms/step - loss: 1.3344 - accuracy: 0.8910 - f1_metric: 0.8905 - val_loss: 0.4882 - val_accuracy: 0.8821 - val_f1_metric: 0.8799 - lr: 1.0000e-04\n",
      "Epoch 97/200\n",
      "29/30 [============================>.] - ETA: 0s - loss: 1.3775 - accuracy: 0.8906 - f1_metric: 0.8904\n",
      "Epoch 00097: val_f1_metric did not improve from 0.88658\n",
      "30/30 [==============================] - 2s 65ms/step - loss: 1.3692 - accuracy: 0.8905 - f1_metric: 0.8902 - val_loss: 0.4886 - val_accuracy: 0.8821 - val_f1_metric: 0.8799 - lr: 1.0000e-04\n",
      "Epoch 98/200\n",
      "29/30 [============================>.] - ETA: 0s - loss: 1.3679 - accuracy: 0.8933 - f1_metric: 0.8932\n",
      "Epoch 00098: val_f1_metric did not improve from 0.88658\n",
      "30/30 [==============================] - 2s 54ms/step - loss: 1.3779 - accuracy: 0.8926 - f1_metric: 0.8921 - val_loss: 0.4904 - val_accuracy: 0.8821 - val_f1_metric: 0.8799 - lr: 1.0000e-04\n",
      "Epoch 99/200\n",
      "30/30 [==============================] - ETA: 0s - loss: 1.3343 - accuracy: 0.8926 - f1_metric: 0.8936\n",
      "Epoch 00099: val_f1_metric did not improve from 0.88658\n",
      "30/30 [==============================] - 2s 54ms/step - loss: 1.3343 - accuracy: 0.8926 - f1_metric: 0.8936 - val_loss: 0.4964 - val_accuracy: 0.8821 - val_f1_metric: 0.8799 - lr: 1.0000e-04\n",
      "Epoch 100/200\n",
      "29/30 [============================>.] - ETA: 0s - loss: 1.3377 - accuracy: 0.8874 - f1_metric: 0.8876\n",
      "Epoch 00100: val_f1_metric did not improve from 0.88658\n",
      "30/30 [==============================] - 2s 56ms/step - loss: 1.3307 - accuracy: 0.8884 - f1_metric: 0.8890 - val_loss: 0.4881 - val_accuracy: 0.8821 - val_f1_metric: 0.8769 - lr: 1.0000e-04\n",
      "Epoch 101/200\n",
      "30/30 [==============================] - ETA: 0s - loss: 1.3724 - accuracy: 0.8899 - f1_metric: 0.8906\n",
      "Epoch 00101: val_f1_metric did not improve from 0.88658\n",
      "30/30 [==============================] - 2s 51ms/step - loss: 1.3724 - accuracy: 0.8899 - f1_metric: 0.8906 - val_loss: 0.4884 - val_accuracy: 0.8821 - val_f1_metric: 0.8796 - lr: 1.0000e-04\n",
      "Epoch 102/200\n",
      "29/30 [============================>.] - ETA: 0s - loss: 1.3279 - accuracy: 0.8863 - f1_metric: 0.8871\n",
      "Epoch 00102: val_f1_metric did not improve from 0.88658\n",
      "30/30 [==============================] - 2s 63ms/step - loss: 1.3303 - accuracy: 0.8868 - f1_metric: 0.8877 - val_loss: 0.4897 - val_accuracy: 0.8821 - val_f1_metric: 0.8799 - lr: 1.0000e-04\n",
      "Epoch 103/200\n",
      "30/30 [==============================] - ETA: 0s - loss: 1.3581 - accuracy: 0.8910 - f1_metric: 0.8896\n",
      "Epoch 00103: val_f1_metric did not improve from 0.88658\n",
      "30/30 [==============================] - 2s 55ms/step - loss: 1.3581 - accuracy: 0.8910 - f1_metric: 0.8896 - val_loss: 0.4899 - val_accuracy: 0.8821 - val_f1_metric: 0.8799 - lr: 1.0000e-04\n",
      "Epoch 104/200\n",
      "29/30 [============================>.] - ETA: 0s - loss: 1.3663 - accuracy: 0.8852 - f1_metric: 0.8859\n",
      "Epoch 00104: val_f1_metric did not improve from 0.88658\n",
      "30/30 [==============================] - 2s 53ms/step - loss: 1.3606 - accuracy: 0.8857 - f1_metric: 0.8866 - val_loss: 0.4927 - val_accuracy: 0.8821 - val_f1_metric: 0.8799 - lr: 1.0000e-04\n",
      "Epoch 105/200\n",
      "30/30 [==============================] - ETA: 0s - loss: 1.3500 - accuracy: 0.8942 - f1_metric: 0.8937\n",
      "Epoch 00105: val_f1_metric did not improve from 0.88658\n",
      "30/30 [==============================] - 2s 64ms/step - loss: 1.3500 - accuracy: 0.8942 - f1_metric: 0.8937 - val_loss: 0.4894 - val_accuracy: 0.8800 - val_f1_metric: 0.8769 - lr: 1.0000e-04\n",
      "Epoch 106/200\n",
      "29/30 [============================>.] - ETA: 0s - loss: 1.3580 - accuracy: 0.8885 - f1_metric: 0.8890\n",
      "Epoch 00106: val_f1_metric did not improve from 0.88658\n",
      "30/30 [==============================] - 2s 69ms/step - loss: 1.3440 - accuracy: 0.8884 - f1_metric: 0.8891 - val_loss: 0.4912 - val_accuracy: 0.8821 - val_f1_metric: 0.8808 - lr: 1.0000e-04\n",
      "Epoch 107/200\n",
      "29/30 [============================>.] - ETA: 0s - loss: 1.3455 - accuracy: 0.8869 - f1_metric: 0.8859\n",
      "Epoch 00107: val_f1_metric did not improve from 0.88658\n",
      "30/30 [==============================] - 2s 61ms/step - loss: 1.3405 - accuracy: 0.8878 - f1_metric: 0.8874 - val_loss: 0.4892 - val_accuracy: 0.8821 - val_f1_metric: 0.8788 - lr: 1.0000e-04\n",
      "Epoch 108/200\n",
      "29/30 [============================>.] - ETA: 0s - loss: 1.3111 - accuracy: 0.8917 - f1_metric: 0.8920\n",
      "Epoch 00108: val_f1_metric did not improve from 0.88658\n",
      "30/30 [==============================] - 2s 56ms/step - loss: 1.3265 - accuracy: 0.8910 - f1_metric: 0.8909 - val_loss: 0.4909 - val_accuracy: 0.8821 - val_f1_metric: 0.8788 - lr: 1.0000e-04\n",
      "Epoch 109/200\n",
      "29/30 [============================>.] - ETA: 0s - loss: 1.3603 - accuracy: 0.8885 - f1_metric: 0.8889\n",
      "Epoch 00109: val_f1_metric did not improve from 0.88658\n",
      "30/30 [==============================] - 2s 58ms/step - loss: 1.3515 - accuracy: 0.8894 - f1_metric: 0.8903 - val_loss: 0.4916 - val_accuracy: 0.8821 - val_f1_metric: 0.8788 - lr: 1.0000e-04\n",
      "Epoch 110/200\n",
      "29/30 [============================>.] - ETA: 0s - loss: 1.3316 - accuracy: 0.8939 - f1_metric: 0.8940\n",
      "Epoch 00110: val_f1_metric did not improve from 0.88658\n",
      "30/30 [==============================] - 2s 51ms/step - loss: 1.3228 - accuracy: 0.8926 - f1_metric: 0.8922 - val_loss: 0.4927 - val_accuracy: 0.8821 - val_f1_metric: 0.8799 - lr: 1.0000e-04\n",
      "Epoch 111/200\n",
      "29/30 [============================>.] - ETA: 0s - loss: 1.3053 - accuracy: 0.8885 - f1_metric: 0.8887\n",
      "Epoch 00111: val_f1_metric did not improve from 0.88658\n",
      "30/30 [==============================] - 2s 56ms/step - loss: 1.3274 - accuracy: 0.8878 - f1_metric: 0.8878 - val_loss: 0.4913 - val_accuracy: 0.8821 - val_f1_metric: 0.8799 - lr: 1.0000e-04\n",
      "Epoch 00111: early stopping\n",
      "CPU times: user 6min 11s, sys: 55.4 s, total: 7min 7s\n",
      "Wall time: 3min 39s\n"
     ]
    }
   ],
   "source": [
    "%%time\n",
    "history = model.fit(x_train, y_train, epochs=params['epochs'], verbose=1,\n",
    "                            batch_size=64, shuffle=True,\n",
    "                            # validation_split=0.3,\n",
    "                            validation_data=(x_cv, y_cv),\n",
    "                            callbacks=[mcp, rlp, es]\n",
    "                            , sample_weight=sample_weights)"
   ]
  },
  {
   "cell_type": "code",
   "execution_count": 38,
   "metadata": {
    "scrolled": true
   },
   "outputs": [
    {
     "data": {
      "image/png": "[encoded data removed]",
      "text/plain": [
       "<Figure size 432x288 with 1 Axes>"
      ]
     },
     "metadata": {
      "needs_background": "light"
     },
     "output_type": "display_data"
    }
   ],
   "source": [
    "from matplotlib import pyplot as plt\n",
    "%matplotlib inline\n",
    "#InteractiveShell.ast_node_interactivity = \"last\"\n",
    "\n",
    "plt.figure()\n",
    "plt.plot(history.history['loss'])\n",
    "plt.plot(history.history['val_loss'])\n",
    "plt.plot(history.history['f1_metric'])\n",
    "plt.plot(history.history['val_f1_metric'])\n",
    "\n",
    "plt.title('Model loss')\n",
    "plt.ylabel('Loss')\n",
    "plt.xlabel('Epoch')\n",
    "plt.legend(['train_loss', 'val_loss', 'f1', 'val_f1'], loc='upper left')\n",
    "plt.show()"
   ]
  },
  {
   "cell_type": "code",
   "execution_count": 39,
   "metadata": {},
   "outputs": [
    {
     "name": "stdout",
     "output_type": "stream",
     "text": [
      "keras evaluate= [0.5032440423965454, 0.8855218887329102, 0.8881579041481018]\n",
      "size of test set 594\n",
      "TP class counts (array([1]), array([526]))\n",
      "True class counts (array([0, 1, 2]), array([ 42, 526,  26]))\n",
      "Pred class counts (array([1]), array([594]))\n",
      "baseline acc: 4.377104377104377\n",
      "[[  0  42   0]\n",
      " [  0 526   0]\n",
      " [  0  26   0]]\n",
      "F1 score (weighted) 0.8317580567580567\n",
      "F1 score (macro) 0.3130952380952381\n",
      "F1 score (micro) 0.8855218855218855\n",
      "cohen's Kappa 0.0\n",
      "Recall of class 0 = 0.0\n",
      "Recall of class 1 = 1.0\n",
      "Recall of class 2 = 0.0\n",
      "Recall avg 0.3333333333333333\n"
     ]
    }
   ],
   "source": [
    "from sklearn.metrics import confusion_matrix, roc_auc_score, cohen_kappa_score\n",
    "import seaborn as sns\n",
    "\n",
    "model = load_model(best_model_path)\n",
    "test_res = model.evaluate(x_test, y_test, verbose=0)\n",
    "print(\"keras evaluate=\", test_res)\n",
    "pred = model.predict(x_test)\n",
    "pred_classes = np.argmax(pred, axis=1)\n",
    "y_test_classes = np.argmax(y_test, axis=1)\n",
    "check_baseline(pred_classes, y_test_classes)\n",
    "conf_mat = confusion_matrix(y_test_classes, pred_classes)\n",
    "print(conf_mat)\n",
    "labels = [0,1,2]\n",
    "\n",
    "f1_weighted = f1_score(y_test_classes, pred_classes, labels=None, \n",
    "         average='weighted', sample_weight=None)\n",
    "print(\"F1 score (weighted)\", f1_weighted)\n",
    "print(\"F1 score (macro)\", f1_score(y_test_classes, pred_classes, labels=None, \n",
    "         average='macro', sample_weight=None))\n",
    "print(\"F1 score (micro)\", f1_score(y_test_classes, pred_classes, labels=None, \n",
    "         average='micro', sample_weight=None))  # weighted and micro preferred in case of imbalance\n",
    "\n",
    "# https://scikit-learn.org/stable/modules/model_evaluation.html#cohen-s-kappa --> supports multiclass; ref: https://stats.stackexchange.com/questions/82162/cohens-kappa-in-plain-english\n",
    "print(\"cohen's Kappa\", cohen_kappa_score(y_test_classes, pred_classes))\n",
    "\n",
    "recall = []\n",
    "for i, row in enumerate(conf_mat):\n",
    "    recall.append(np.round(row[i]/np.sum(row), 2))\n",
    "    print(\"Recall of class {} = {}\".format(i, recall[i]))\n",
    "print(\"Recall avg\", sum(recall)/len(recall))"
   ]
  },
  {
   "cell_type": "code",
   "execution_count": 40,
   "metadata": {},
   "outputs": [
    {
     "name": "stdout",
     "output_type": "stream",
     "text": [
      "[1 1 1 1 1 1 1 1 1 1 1 1 1 1 1 1 1 1 1 1 1 1 1 1 1 1 1 1 1 1 1 1 1 1 1 1 1\n",
      " 1 1 1 1 1 1 1 1 1 1 1 1 1 1 1 1 1 1 1 1 1 1 1 1 1 1 1 1 1 1 1 1 1 1 1 1 1\n",
      " 1 1 1 1 1 1 1 1 1 1 1 1 1 1 1 1 1 1 1 1 1 1 1 1 1 1 1 1 1 1 1 1 1 1 1 1 1\n",
      " 1 1 1 1 1 1 1 1 1 1 1 1 1 1 1 1 1 1 1 1 1 1 1 1 1 1 1 1 1 1 1 1 1 1 1 1 1\n",
      " 1 1 1 1 1 1 1 1 1 1 1 1 1 1 1 1 1 1 1 1 1 1 1 1 1 1 1 1 1 1 1 1 1 1 1 1 1\n",
      " 1 1 1 1 1 1 1 1 1 1 1 1 1 1 1 1 1 1 1 1 1 1 1 1 1 1 1 1 1 1 1 1 1 1 1 1 1\n",
      " 1 1 1 1 1 1 1 1 1 1 1 1 1 1 1 1 1 1 1 1 1 1 1 1 1 1 1 1 1 1 1 1 1 1 1 1 1\n",
      " 1 1 1 1 1 1 1 1 1 1 1 1 1 1 1 1 1 1 1 1 1 1 1 1 1 1 1 1 1 1 1 1 1 1 1 1 1\n",
      " 1 1 1 1 1 1 1 1 1 1 1 1 1 1 1 1 1 1 1 1 1 1 1 1 1 1 1 1 1 1 1 1 1 1 1 1 1\n",
      " 1 1 1 1 1 1 1 1 1 1 1 1 1 1 1 1 1 1 1 1 1 1 1 1 1 1 1 1 1 1 1 1 1 1 1 1 1\n",
      " 1 1 1 1 1 1 1 1 1 1 1 1 1 1 1 1 1 1 1 1 1 1 1 1 1 1 1 1 1 1 1 1 1 1 1 1 1\n",
      " 1 1 1 1 1 1 1 1 1 1 1 1 1 1 1 1 1 1 1 1 1 1 1 1 1 1 1 1 1 1 1 1 1 1 1 1 1\n",
      " 1 1 1 1 1 1 1 1 1 1 1 1 1 1 1 1 1 1 1 1 1 1 1 1 1 1 1 1 1 1 1 1 1 1 1 1 1\n",
      " 1 1 1 1 1 1 1 1 1 1 1 1 1 1 1 1 1 1 1 1 1 1 1 1 1 1 1 1 1 1 1 1 1 1 1 1 1\n",
      " 1 1 1 1 1 1 1 1 1 1 1 1 1 1 1 1 1 1 1 1 1 1 1 1 1 1 1 1 1 1 1 1 1 1 1 1 1\n",
      " 1 1 1 1 1 1 1 1 1 1 1 1 1 1 1 1 1 1 1 1 1 1 1 1 1 1 1 1 1 1 1 1 1 1 1 1 1\n",
      " 1 1]\n"
     ]
    }
   ],
   "source": [
    "print(pred_classes)"
   ]
  },
  {
   "cell_type": "code",
   "execution_count": null,
   "metadata": {},
   "outputs": [],
   "source": []
  }
 ],
 "metadata": {
  "kernelspec": {
   "display_name": "Python 3 (ipykernel)",
   "language": "python",
   "name": "python3"
  },
  "language_info": {
   "codemirror_mode": {
    "name": "ipython",
    "version": 3
   },
   "file_extension": ".py",
   "mimetype": "text/x-python",
   "name": "python",
   "nbconvert_exporter": "python",
   "pygments_lexer": "ipython3",
   "version": "3.8.5"
  }
 },
 "nbformat": 4,
 "nbformat_minor": 4
}
